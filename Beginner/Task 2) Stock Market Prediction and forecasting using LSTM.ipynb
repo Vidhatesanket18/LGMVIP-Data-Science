{
  "nbformat": 4,
  "nbformat_minor": 0,
  "metadata": {
    "colab": {
      "name": "Data Science Internship (Task 2).ipynb",
      "provenance": [],
      "collapsed_sections": []
    },
    "kernelspec": {
      "name": "python3",
      "display_name": "Python 3"
    },
    "language_info": {
      "name": "python"
    }
  },
  "cells": [
    {
      "cell_type": "markdown",
      "source": [
        "Stock Market Prediction and Forecasting Using Stacked LSTM"
      ],
      "metadata": {
        "id": "dKUGRGKIhEYH"
      }
    },
    {
      "cell_type": "markdown",
      "source": [
        "Dataset\n",
        "Yahoo Finance - Stock of Reliance Industries Limited NSE: RELIANCE: https://finance.yahoo.com/quote/RELIANCE.NS/history?period1=1433635200&period2=1591488000&interval=1d&filter=history&frequency=1d\n"
      ],
      "metadata": {
        "id": "3P-88G2IoN4p"
      }
    },
    {
      "cell_type": "code",
      "source": [
        "#Import necessary Libraries\n",
        "import pandas as pd\n",
        "import numpy as np\n",
        "import math\n",
        "import matplotlib.pyplot as plt\n",
        "from sklearn.preprocessing import MinMaxScaler\n",
        "from sklearn.metrics import mean_squared_error\n",
        "import tensorflow as tf\n",
        "from tensorflow.python.keras.models import Sequential\n",
        "from tensorflow.python.keras.layers import Dense\n",
        "from tensorflow.python.keras.layers import LSTM\n",
        "%matplotlib inline"
      ],
      "metadata": {
        "id": "yNmHjX9vgrKX"
      },
      "execution_count": null,
      "outputs": []
    },
    {
      "cell_type": "code",
      "source": [
        "import pandas as pd\n",
        "from google.colab import files\n",
        "uploaded=files.upload()\n",
        "\n",
        "\n",
        "\n"
      ],
      "metadata": {
        "id": "-gpV8FVvpPDP",
        "colab": {
          "resources": {
            "http://localhost:8080/nbextensions/google.colab/files.js": {
              "data": "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",
              "ok": true,
              "headers": [
                [
                  "content-type",
                  "application/javascript"
                ]
              ],
              "status": 200,
              "status_text": ""
            }
          },
          "base_uri": "https://localhost:8080/",
          "height": 74
        },
        "outputId": "8d4c4f74-cf74-40b4-9985-5a91eb599a78"
      },
      "execution_count": null,
      "outputs": [
        {
          "output_type": "display_data",
          "data": {
            "text/plain": [
              "<IPython.core.display.HTML object>"
            ],
            "text/html": [
              "\n",
              "     <input type=\"file\" id=\"files-7d27ab8a-4b22-44f5-9f6c-aa249dcaa473\" name=\"files[]\" multiple disabled\n",
              "        style=\"border:none\" />\n",
              "     <output id=\"result-7d27ab8a-4b22-44f5-9f6c-aa249dcaa473\">\n",
              "      Upload widget is only available when the cell has been executed in the\n",
              "      current browser session. Please rerun this cell to enable.\n",
              "      </output>\n",
              "      <script src=\"/nbextensions/google.colab/files.js\"></script> "
            ]
          },
          "metadata": {}
        },
        {
          "output_type": "stream",
          "name": "stdout",
          "text": [
            "Saving Reliance_Stock.csv to Reliance_Stock.csv\n"
          ]
        }
      ]
    },
    {
      "cell_type": "code",
      "source": [
        "import io\n",
        "df=pd.read_csv(io.BytesIO(uploaded['Reliance_Stock.csv']))"
      ],
      "metadata": {
        "id": "oA_gYkvWrfta"
      },
      "execution_count": null,
      "outputs": []
    },
    {
      "cell_type": "code",
      "source": [
        "#Import the data and remove rows containing NAN values\n",
        "df = pd.read_csv('stock_data.csv')\n",
        "df = df.dropna()\n",
        "df.head()"
      ],
      "metadata": {
        "colab": {
          "base_uri": "https://localhost:8080/",
          "height": 206
        },
        "id": "MMGCGWeHgrNz",
        "outputId": "4111a378-32e0-4811-e9df-fb3faa591752"
      },
      "execution_count": null,
      "outputs": [
        {
          "output_type": "execute_result",
          "data": {
            "text/plain": [
              "                                                Text  Sentiment\n",
              "0  Kickers on my watchlist XIDE TIT SOQ PNK CPW B...          1\n",
              "1  user: AAP MOVIE. 55% return for the FEA/GEED i...          1\n",
              "2  user I'd be afraid to short AMZN - they are lo...          1\n",
              "3                                  MNTA Over 12.00            1\n",
              "4                                   OI  Over 21.37            1"
            ],
            "text/html": [
              "\n",
              "  <div id=\"df-4f102505-1fc9-41f7-8846-42e3f37f44bf\">\n",
              "    <div class=\"colab-df-container\">\n",
              "      <div>\n",
              "<style scoped>\n",
              "    .dataframe tbody tr th:only-of-type {\n",
              "        vertical-align: middle;\n",
              "    }\n",
              "\n",
              "    .dataframe tbody tr th {\n",
              "        vertical-align: top;\n",
              "    }\n",
              "\n",
              "    .dataframe thead th {\n",
              "        text-align: right;\n",
              "    }\n",
              "</style>\n",
              "<table border=\"1\" class=\"dataframe\">\n",
              "  <thead>\n",
              "    <tr style=\"text-align: right;\">\n",
              "      <th></th>\n",
              "      <th>Text</th>\n",
              "      <th>Sentiment</th>\n",
              "    </tr>\n",
              "  </thead>\n",
              "  <tbody>\n",
              "    <tr>\n",
              "      <th>0</th>\n",
              "      <td>Kickers on my watchlist XIDE TIT SOQ PNK CPW B...</td>\n",
              "      <td>1</td>\n",
              "    </tr>\n",
              "    <tr>\n",
              "      <th>1</th>\n",
              "      <td>user: AAP MOVIE. 55% return for the FEA/GEED i...</td>\n",
              "      <td>1</td>\n",
              "    </tr>\n",
              "    <tr>\n",
              "      <th>2</th>\n",
              "      <td>user I'd be afraid to short AMZN - they are lo...</td>\n",
              "      <td>1</td>\n",
              "    </tr>\n",
              "    <tr>\n",
              "      <th>3</th>\n",
              "      <td>MNTA Over 12.00</td>\n",
              "      <td>1</td>\n",
              "    </tr>\n",
              "    <tr>\n",
              "      <th>4</th>\n",
              "      <td>OI  Over 21.37</td>\n",
              "      <td>1</td>\n",
              "    </tr>\n",
              "  </tbody>\n",
              "</table>\n",
              "</div>\n",
              "      <button class=\"colab-df-convert\" onclick=\"convertToInteractive('df-4f102505-1fc9-41f7-8846-42e3f37f44bf')\"\n",
              "              title=\"Convert this dataframe to an interactive table.\"\n",
              "              style=\"display:none;\">\n",
              "        \n",
              "  <svg xmlns=\"http://www.w3.org/2000/svg\" height=\"24px\"viewBox=\"0 0 24 24\"\n",
              "       width=\"24px\">\n",
              "    <path d=\"M0 0h24v24H0V0z\" fill=\"none\"/>\n",
              "    <path d=\"M18.56 5.44l.94 2.06.94-2.06 2.06-.94-2.06-.94-.94-2.06-.94 2.06-2.06.94zm-11 1L8.5 8.5l.94-2.06 2.06-.94-2.06-.94L8.5 2.5l-.94 2.06-2.06.94zm10 10l.94 2.06.94-2.06 2.06-.94-2.06-.94-.94-2.06-.94 2.06-2.06.94z\"/><path d=\"M17.41 7.96l-1.37-1.37c-.4-.4-.92-.59-1.43-.59-.52 0-1.04.2-1.43.59L10.3 9.45l-7.72 7.72c-.78.78-.78 2.05 0 2.83L4 21.41c.39.39.9.59 1.41.59.51 0 1.02-.2 1.41-.59l7.78-7.78 2.81-2.81c.8-.78.8-2.07 0-2.86zM5.41 20L4 18.59l7.72-7.72 1.47 1.35L5.41 20z\"/>\n",
              "  </svg>\n",
              "      </button>\n",
              "      \n",
              "  <style>\n",
              "    .colab-df-container {\n",
              "      display:flex;\n",
              "      flex-wrap:wrap;\n",
              "      gap: 12px;\n",
              "    }\n",
              "\n",
              "    .colab-df-convert {\n",
              "      background-color: #E8F0FE;\n",
              "      border: none;\n",
              "      border-radius: 50%;\n",
              "      cursor: pointer;\n",
              "      display: none;\n",
              "      fill: #1967D2;\n",
              "      height: 32px;\n",
              "      padding: 0 0 0 0;\n",
              "      width: 32px;\n",
              "    }\n",
              "\n",
              "    .colab-df-convert:hover {\n",
              "      background-color: #E2EBFA;\n",
              "      box-shadow: 0px 1px 2px rgba(60, 64, 67, 0.3), 0px 1px 3px 1px rgba(60, 64, 67, 0.15);\n",
              "      fill: #174EA6;\n",
              "    }\n",
              "\n",
              "    [theme=dark] .colab-df-convert {\n",
              "      background-color: #3B4455;\n",
              "      fill: #D2E3FC;\n",
              "    }\n",
              "\n",
              "    [theme=dark] .colab-df-convert:hover {\n",
              "      background-color: #434B5C;\n",
              "      box-shadow: 0px 1px 3px 1px rgba(0, 0, 0, 0.15);\n",
              "      filter: drop-shadow(0px 1px 2px rgba(0, 0, 0, 0.3));\n",
              "      fill: #FFFFFF;\n",
              "    }\n",
              "  </style>\n",
              "\n",
              "      <script>\n",
              "        const buttonEl =\n",
              "          document.querySelector('#df-4f102505-1fc9-41f7-8846-42e3f37f44bf button.colab-df-convert');\n",
              "        buttonEl.style.display =\n",
              "          google.colab.kernel.accessAllowed ? 'block' : 'none';\n",
              "\n",
              "        async function convertToInteractive(key) {\n",
              "          const element = document.querySelector('#df-4f102505-1fc9-41f7-8846-42e3f37f44bf');\n",
              "          const dataTable =\n",
              "            await google.colab.kernel.invokeFunction('convertToInteractive',\n",
              "                                                     [key], {});\n",
              "          if (!dataTable) return;\n",
              "\n",
              "          const docLinkHtml = 'Like what you see? Visit the ' +\n",
              "            '<a target=\"_blank\" href=https://colab.research.google.com/notebooks/data_table.ipynb>data table notebook</a>'\n",
              "            + ' to learn more about interactive tables.';\n",
              "          element.innerHTML = '';\n",
              "          dataTable['output_type'] = 'display_data';\n",
              "          await google.colab.output.renderOutput(dataTable, element);\n",
              "          const docLink = document.createElement('div');\n",
              "          docLink.innerHTML = docLinkHtml;\n",
              "          element.appendChild(docLink);\n",
              "        }\n",
              "      </script>\n",
              "    </div>\n",
              "  </div>\n",
              "  "
            ]
          },
          "metadata": {},
          "execution_count": 13
        }
      ]
    },
    {
      "cell_type": "code",
      "source": [
        "df.tail()"
      ],
      "metadata": {
        "id": "jBNeOZ6fhVQX",
        "colab": {
          "base_uri": "https://localhost:8080/",
          "height": 206
        },
        "outputId": "883ccc76-28da-4fad-aacf-c70b1aba6bad"
      },
      "execution_count": null,
      "outputs": [
        {
          "output_type": "execute_result",
          "data": {
            "text/plain": [
              "            Date    Open         High          Low        Close    Adj Close  \\\n",
              "1224  2020-06-01  1480.0  1538.349976  1475.949951  1520.349976  1520.349976   \n",
              "1225  2020-06-02  1526.0  1540.000000  1520.800049  1535.699951  1535.699951   \n",
              "1226  2020-06-03  1545.0  1560.000000  1533.349976  1541.650024  1541.650024   \n",
              "1227  2020-06-04  1544.0  1589.500000  1541.000000  1579.800049  1579.800049   \n",
              "1228  2020-06-05  1595.0  1618.000000  1573.699951  1581.699951  1581.699951   \n",
              "\n",
              "          Volume  \n",
              "1224  18434012.0  \n",
              "1225  10224049.0  \n",
              "1226  11713461.0  \n",
              "1227  15784379.0  \n",
              "1228  15246965.0  "
            ],
            "text/html": [
              "\n",
              "  <div id=\"df-9a4f3ada-3af5-4e36-9243-27c948faa718\">\n",
              "    <div class=\"colab-df-container\">\n",
              "      <div>\n",
              "<style scoped>\n",
              "    .dataframe tbody tr th:only-of-type {\n",
              "        vertical-align: middle;\n",
              "    }\n",
              "\n",
              "    .dataframe tbody tr th {\n",
              "        vertical-align: top;\n",
              "    }\n",
              "\n",
              "    .dataframe thead th {\n",
              "        text-align: right;\n",
              "    }\n",
              "</style>\n",
              "<table border=\"1\" class=\"dataframe\">\n",
              "  <thead>\n",
              "    <tr style=\"text-align: right;\">\n",
              "      <th></th>\n",
              "      <th>Date</th>\n",
              "      <th>Open</th>\n",
              "      <th>High</th>\n",
              "      <th>Low</th>\n",
              "      <th>Close</th>\n",
              "      <th>Adj Close</th>\n",
              "      <th>Volume</th>\n",
              "    </tr>\n",
              "  </thead>\n",
              "  <tbody>\n",
              "    <tr>\n",
              "      <th>1224</th>\n",
              "      <td>2020-06-01</td>\n",
              "      <td>1480.0</td>\n",
              "      <td>1538.349976</td>\n",
              "      <td>1475.949951</td>\n",
              "      <td>1520.349976</td>\n",
              "      <td>1520.349976</td>\n",
              "      <td>18434012.0</td>\n",
              "    </tr>\n",
              "    <tr>\n",
              "      <th>1225</th>\n",
              "      <td>2020-06-02</td>\n",
              "      <td>1526.0</td>\n",
              "      <td>1540.000000</td>\n",
              "      <td>1520.800049</td>\n",
              "      <td>1535.699951</td>\n",
              "      <td>1535.699951</td>\n",
              "      <td>10224049.0</td>\n",
              "    </tr>\n",
              "    <tr>\n",
              "      <th>1226</th>\n",
              "      <td>2020-06-03</td>\n",
              "      <td>1545.0</td>\n",
              "      <td>1560.000000</td>\n",
              "      <td>1533.349976</td>\n",
              "      <td>1541.650024</td>\n",
              "      <td>1541.650024</td>\n",
              "      <td>11713461.0</td>\n",
              "    </tr>\n",
              "    <tr>\n",
              "      <th>1227</th>\n",
              "      <td>2020-06-04</td>\n",
              "      <td>1544.0</td>\n",
              "      <td>1589.500000</td>\n",
              "      <td>1541.000000</td>\n",
              "      <td>1579.800049</td>\n",
              "      <td>1579.800049</td>\n",
              "      <td>15784379.0</td>\n",
              "    </tr>\n",
              "    <tr>\n",
              "      <th>1228</th>\n",
              "      <td>2020-06-05</td>\n",
              "      <td>1595.0</td>\n",
              "      <td>1618.000000</td>\n",
              "      <td>1573.699951</td>\n",
              "      <td>1581.699951</td>\n",
              "      <td>1581.699951</td>\n",
              "      <td>15246965.0</td>\n",
              "    </tr>\n",
              "  </tbody>\n",
              "</table>\n",
              "</div>\n",
              "      <button class=\"colab-df-convert\" onclick=\"convertToInteractive('df-9a4f3ada-3af5-4e36-9243-27c948faa718')\"\n",
              "              title=\"Convert this dataframe to an interactive table.\"\n",
              "              style=\"display:none;\">\n",
              "        \n",
              "  <svg xmlns=\"http://www.w3.org/2000/svg\" height=\"24px\"viewBox=\"0 0 24 24\"\n",
              "       width=\"24px\">\n",
              "    <path d=\"M0 0h24v24H0V0z\" fill=\"none\"/>\n",
              "    <path d=\"M18.56 5.44l.94 2.06.94-2.06 2.06-.94-2.06-.94-.94-2.06-.94 2.06-2.06.94zm-11 1L8.5 8.5l.94-2.06 2.06-.94-2.06-.94L8.5 2.5l-.94 2.06-2.06.94zm10 10l.94 2.06.94-2.06 2.06-.94-2.06-.94-.94-2.06-.94 2.06-2.06.94z\"/><path d=\"M17.41 7.96l-1.37-1.37c-.4-.4-.92-.59-1.43-.59-.52 0-1.04.2-1.43.59L10.3 9.45l-7.72 7.72c-.78.78-.78 2.05 0 2.83L4 21.41c.39.39.9.59 1.41.59.51 0 1.02-.2 1.41-.59l7.78-7.78 2.81-2.81c.8-.78.8-2.07 0-2.86zM5.41 20L4 18.59l7.72-7.72 1.47 1.35L5.41 20z\"/>\n",
              "  </svg>\n",
              "      </button>\n",
              "      \n",
              "  <style>\n",
              "    .colab-df-container {\n",
              "      display:flex;\n",
              "      flex-wrap:wrap;\n",
              "      gap: 12px;\n",
              "    }\n",
              "\n",
              "    .colab-df-convert {\n",
              "      background-color: #E8F0FE;\n",
              "      border: none;\n",
              "      border-radius: 50%;\n",
              "      cursor: pointer;\n",
              "      display: none;\n",
              "      fill: #1967D2;\n",
              "      height: 32px;\n",
              "      padding: 0 0 0 0;\n",
              "      width: 32px;\n",
              "    }\n",
              "\n",
              "    .colab-df-convert:hover {\n",
              "      background-color: #E2EBFA;\n",
              "      box-shadow: 0px 1px 2px rgba(60, 64, 67, 0.3), 0px 1px 3px 1px rgba(60, 64, 67, 0.15);\n",
              "      fill: #174EA6;\n",
              "    }\n",
              "\n",
              "    [theme=dark] .colab-df-convert {\n",
              "      background-color: #3B4455;\n",
              "      fill: #D2E3FC;\n",
              "    }\n",
              "\n",
              "    [theme=dark] .colab-df-convert:hover {\n",
              "      background-color: #434B5C;\n",
              "      box-shadow: 0px 1px 3px 1px rgba(0, 0, 0, 0.15);\n",
              "      filter: drop-shadow(0px 1px 2px rgba(0, 0, 0, 0.3));\n",
              "      fill: #FFFFFF;\n",
              "    }\n",
              "  </style>\n",
              "\n",
              "      <script>\n",
              "        const buttonEl =\n",
              "          document.querySelector('#df-9a4f3ada-3af5-4e36-9243-27c948faa718 button.colab-df-convert');\n",
              "        buttonEl.style.display =\n",
              "          google.colab.kernel.accessAllowed ? 'block' : 'none';\n",
              "\n",
              "        async function convertToInteractive(key) {\n",
              "          const element = document.querySelector('#df-9a4f3ada-3af5-4e36-9243-27c948faa718');\n",
              "          const dataTable =\n",
              "            await google.colab.kernel.invokeFunction('convertToInteractive',\n",
              "                                                     [key], {});\n",
              "          if (!dataTable) return;\n",
              "\n",
              "          const docLinkHtml = 'Like what you see? Visit the ' +\n",
              "            '<a target=\"_blank\" href=https://colab.research.google.com/notebooks/data_table.ipynb>data table notebook</a>'\n",
              "            + ' to learn more about interactive tables.';\n",
              "          element.innerHTML = '';\n",
              "          dataTable['output_type'] = 'display_data';\n",
              "          await google.colab.output.renderOutput(dataTable, element);\n",
              "          const docLink = document.createElement('div');\n",
              "          docLink.innerHTML = docLinkHtml;\n",
              "          element.appendChild(docLink);\n",
              "        }\n",
              "      </script>\n",
              "    </div>\n",
              "  </div>\n",
              "  "
            ]
          },
          "metadata": {},
          "execution_count": 21
        }
      ]
    },
    {
      "cell_type": "code",
      "source": [
        "df_close = df['Close']\n"
      ],
      "metadata": {
        "id": "8jmlMmDsgrU5"
      },
      "execution_count": null,
      "outputs": []
    },
    {
      "cell_type": "code",
      "source": [
        "df_close.shape"
      ],
      "metadata": {
        "id": "CLSZtja5h71O",
        "colab": {
          "base_uri": "https://localhost:8080/"
        },
        "outputId": "f698940a-0df8-43a0-deab-c1ce257fd071"
      },
      "execution_count": null,
      "outputs": [
        {
          "output_type": "execute_result",
          "data": {
            "text/plain": [
              "(1229,)"
            ]
          },
          "metadata": {},
          "execution_count": 24
        }
      ]
    },
    {
      "cell_type": "code",
      "source": [
        "plt.plot(df_close)"
      ],
      "metadata": {
        "id": "6-1QPZ1mh73q",
        "colab": {
          "base_uri": "https://localhost:8080/",
          "height": 282
        },
        "outputId": "70a8a63c-e302-4e58-8368-5626e0c73211"
      },
      "execution_count": null,
      "outputs": [
        {
          "output_type": "execute_result",
          "data": {
            "text/plain": [
              "[<matplotlib.lines.Line2D at 0x7fcb469dd9d0>]"
            ]
          },
          "metadata": {},
          "execution_count": 25
        },
        {
          "output_type": "display_data",
          "data": {
            "text/plain": [
              "<Figure size 432x288 with 1 Axes>"
            ],
            "image/png": "[encoded data removed]"
          },
          "metadata": {
            "needs_background": "light"
          }
        }
      ]
    },
    {
      "cell_type": "code",
      "source": [
        "scaler = MinMaxScaler(feature_range = (0,1))\n",
        "df_close = scaler.fit_transform(np.array(df_close).reshape(-1,1))"
      ],
      "metadata": {
        "id": "On3y80HJh77B"
      },
      "execution_count": null,
      "outputs": []
    },
    {
      "cell_type": "code",
      "source": [
        "df_close.shape\n"
      ],
      "metadata": {
        "id": "2DX1L7E_iBsz",
        "colab": {
          "base_uri": "https://localhost:8080/"
        },
        "outputId": "fb1f39d2-459d-42d5-8c9f-7f736a3538a2"
      },
      "execution_count": null,
      "outputs": [
        {
          "output_type": "execute_result",
          "data": {
            "text/plain": [
              "(1229, 1)"
            ]
          },
          "metadata": {},
          "execution_count": 27
        }
      ]
    },
    {
      "cell_type": "code",
      "source": [
        "df_close\n"
      ],
      "metadata": {
        "id": "wNMaI6q2iBuu",
        "colab": {
          "base_uri": "https://localhost:8080/"
        },
        "outputId": "b9510270-99d2-4d09-94ae-b462668a99d8"
      },
      "execution_count": null,
      "outputs": [
        {
          "output_type": "execute_result",
          "data": {
            "text/plain": [
              "array([[0.02338571],\n",
              "       [0.0226536 ],\n",
              "       [0.0318991 ],\n",
              "       ...,\n",
              "       [0.94285362],\n",
              "       [0.97477365],\n",
              "       [0.97636329]])"
            ]
          },
          "metadata": {},
          "execution_count": 28
        }
      ]
    },
    {
      "cell_type": "code",
      "source": [
        "#Split the data into train and test split\n",
        "training_size = int(len(df_close) * 0.75)\n",
        "test_size = len(df_close) - training_size\n",
        "train_data, test_data = df_close[0:training_size,:], df_close[training_size:len(df_close),:1]"
      ],
      "metadata": {
        "id": "0zyInXKiiBxD"
      },
      "execution_count": null,
      "outputs": []
    },
    {
      "cell_type": "code",
      "source": [
        "def create_dataset(dataset, time_step = 1):\n",
        "    dataX, dataY = [], []\n",
        "    for i in range(len(dataset) - time_step - 1):\n",
        "        a = dataset[i:(i+time_step), 0]\n",
        "        dataX.append(a)\n",
        "        dataY.append(dataset[i+time_step, 0])\n",
        "    return np.array(dataX), np.array(dataY)\n"
      ],
      "metadata": {
        "id": "nJYyy2pmiB0Z"
      },
      "execution_count": null,
      "outputs": []
    },
    {
      "cell_type": "code",
      "source": [
        "time_step = 100\n",
        "x_train, y_train = create_dataset(train_data, time_step)\n",
        "x_test, y_test = create_dataset(test_data, time_step)"
      ],
      "metadata": {
        "id": "4r1Y2LU2iOJZ"
      },
      "execution_count": null,
      "outputs": []
    },
    {
      "cell_type": "code",
      "source": [
        "#Reshape the input to be [samples, time steps, features] which is the requirement of LSTM\n",
        "x_train = x_train.reshape(x_train.shape[0], x_train.shape[1], 1)\n",
        "x_test = x_test.reshape(x_test.shape[0], x_test.shape[1], 1)"
      ],
      "metadata": {
        "id": "vIO99CRGiOV7"
      },
      "execution_count": null,
      "outputs": []
    },
    {
      "cell_type": "code",
      "source": [
        "#Create the LSTM Model\n",
        "model = Sequential()\n",
        "model.add(LSTM(50, return_sequences = True, input_shape = (100,1)))\n",
        "model.add(LSTM(50, return_sequences = True))\n",
        "model.add(LSTM(50))\n",
        "model.add(Dense(1))\n",
        "model.compile(loss = 'mean_squared_error', optimizer = 'adam')"
      ],
      "metadata": {
        "id": "yHEostkDiS81"
      },
      "execution_count": null,
      "outputs": []
    },
    {
      "cell_type": "code",
      "source": [
        "model.summary()"
      ],
      "metadata": {
        "id": "J3mIa3OViS_D",
        "colab": {
          "base_uri": "https://localhost:8080/"
        },
        "outputId": "94036d66-1276-4b68-e691-3d7bbc59aa16"
      },
      "execution_count": null,
      "outputs": [
        {
          "output_type": "stream",
          "name": "stdout",
          "text": [
            "Model: \"sequential\"\n",
            "_________________________________________________________________\n",
            "Layer (type)                 Output Shape              Param #   \n",
            "=================================================================\n",
            "lstm (LSTM)                  (None, 100, 50)           10400     \n",
            "_________________________________________________________________\n",
            "lstm_1 (LSTM)                (None, 100, 50)           20200     \n",
            "_________________________________________________________________\n",
            "lstm_2 (LSTM)                (None, 50)                20200     \n",
            "_________________________________________________________________\n",
            "dense (Dense)                (None, 1)                 51        \n",
            "=================================================================\n",
            "Total params: 50,851\n",
            "Trainable params: 50,851\n",
            "Non-trainable params: 0\n",
            "_________________________________________________________________\n"
          ]
        }
      ]
    },
    {
      "cell_type": "code",
      "source": [
        "model.fit(x_train, y_train, validation_data = (x_test, y_test), epochs = 100, batch_size = 64, verbose = 1)"
      ],
      "metadata": {
        "id": "B-rX4JRpiTBA",
        "colab": {
          "base_uri": "https://localhost:8080/"
        },
        "outputId": "29c597d2-91c4-429c-865f-f7e27533fe84"
      },
      "execution_count": null,
      "outputs": [
        {
          "output_type": "stream",
          "name": "stdout",
          "text": [
            "Epoch 1/100\n",
            "13/13 [==============================] - 13s 398ms/step - loss: 0.0506 - val_loss: nan\n",
            "Epoch 2/100\n",
            "13/13 [==============================] - 4s 331ms/step - loss: 0.0074 - val_loss: nan\n",
            "Epoch 3/100\n",
            "13/13 [==============================] - 4s 331ms/step - loss: 0.0028 - val_loss: nan\n",
            "Epoch 4/100\n",
            "13/13 [==============================] - 4s 330ms/step - loss: 0.0012 - val_loss: nan\n",
            "Epoch 5/100\n",
            "13/13 [==============================] - 4s 330ms/step - loss: 0.0010 - val_loss: nan\n",
            "Epoch 6/100\n",
            "13/13 [==============================] - 4s 332ms/step - loss: 0.0010 - val_loss: nan\n",
            "Epoch 7/100\n",
            "13/13 [==============================] - 4s 333ms/step - loss: 9.8505e-04 - val_loss: nan\n",
            "Epoch 8/100\n",
            "13/13 [==============================] - 4s 333ms/step - loss: 9.7673e-04 - val_loss: nan\n",
            "Epoch 9/100\n",
            "13/13 [==============================] - 4s 332ms/step - loss: 9.4051e-04 - val_loss: nan\n",
            "Epoch 10/100\n",
            "13/13 [==============================] - 4s 330ms/step - loss: 9.0082e-04 - val_loss: nan\n",
            "Epoch 11/100\n",
            "13/13 [==============================] - 4s 331ms/step - loss: 8.9158e-04 - val_loss: nan\n",
            "Epoch 12/100\n",
            "13/13 [==============================] - 4s 333ms/step - loss: 9.0076e-04 - val_loss: nan\n",
            "Epoch 13/100\n",
            "13/13 [==============================] - 5s 407ms/step - loss: 8.9370e-04 - val_loss: nan\n",
            "Epoch 14/100\n",
            "13/13 [==============================] - 4s 333ms/step - loss: 8.7604e-04 - val_loss: nan\n",
            "Epoch 15/100\n",
            "13/13 [==============================] - 4s 332ms/step - loss: 9.0670e-04 - val_loss: nan\n",
            "Epoch 16/100\n",
            "13/13 [==============================] - 4s 335ms/step - loss: 8.6454e-04 - val_loss: nan\n",
            "Epoch 17/100\n",
            "13/13 [==============================] - 4s 330ms/step - loss: 8.5114e-04 - val_loss: nan\n",
            "Epoch 18/100\n",
            "13/13 [==============================] - 4s 332ms/step - loss: 8.2848e-04 - val_loss: nan\n",
            "Epoch 19/100\n",
            "13/13 [==============================] - 4s 329ms/step - loss: 8.4510e-04 - val_loss: nan\n",
            "Epoch 20/100\n",
            "13/13 [==============================] - 4s 338ms/step - loss: 7.9481e-04 - val_loss: nan\n",
            "Epoch 21/100\n",
            "13/13 [==============================] - 4s 337ms/step - loss: 7.9264e-04 - val_loss: nan\n",
            "Epoch 22/100\n",
            "13/13 [==============================] - 4s 331ms/step - loss: 7.6441e-04 - val_loss: nan\n",
            "Epoch 23/100\n",
            "13/13 [==============================] - 4s 336ms/step - loss: 7.7062e-04 - val_loss: nan\n",
            "Epoch 24/100\n",
            "13/13 [==============================] - 4s 332ms/step - loss: 7.5137e-04 - val_loss: nan\n",
            "Epoch 25/100\n",
            "13/13 [==============================] - 4s 334ms/step - loss: 7.1583e-04 - val_loss: nan\n",
            "Epoch 26/100\n",
            "13/13 [==============================] - 4s 336ms/step - loss: 7.8435e-04 - val_loss: nan\n",
            "Epoch 27/100\n",
            "13/13 [==============================] - 4s 333ms/step - loss: 7.1651e-04 - val_loss: nan\n",
            "Epoch 28/100\n",
            "13/13 [==============================] - 4s 334ms/step - loss: 6.8398e-04 - val_loss: nan\n",
            "Epoch 29/100\n",
            "13/13 [==============================] - 4s 333ms/step - loss: 6.6897e-04 - val_loss: nan\n",
            "Epoch 30/100\n",
            "13/13 [==============================] - 4s 335ms/step - loss: 7.4890e-04 - val_loss: nan\n",
            "Epoch 31/100\n",
            "13/13 [==============================] - 4s 332ms/step - loss: 6.8747e-04 - val_loss: nan\n",
            "Epoch 32/100\n",
            "13/13 [==============================] - 4s 333ms/step - loss: 6.9101e-04 - val_loss: nan\n",
            "Epoch 33/100\n",
            "13/13 [==============================] - 4s 335ms/step - loss: 6.6455e-04 - val_loss: nan\n",
            "Epoch 34/100\n",
            "13/13 [==============================] - 4s 334ms/step - loss: 7.3498e-04 - val_loss: nan\n",
            "Epoch 35/100\n",
            "13/13 [==============================] - 4s 335ms/step - loss: 6.5154e-04 - val_loss: nan\n",
            "Epoch 36/100\n",
            "13/13 [==============================] - 4s 333ms/step - loss: 6.3705e-04 - val_loss: nan\n",
            "Epoch 37/100\n",
            "13/13 [==============================] - 5s 406ms/step - loss: 6.2412e-04 - val_loss: nan\n",
            "Epoch 38/100\n",
            "13/13 [==============================] - 4s 330ms/step - loss: 6.5382e-04 - val_loss: nan\n",
            "Epoch 39/100\n",
            "13/13 [==============================] - 4s 328ms/step - loss: 7.2216e-04 - val_loss: nan\n",
            "Epoch 40/100\n",
            "13/13 [==============================] - 4s 330ms/step - loss: 6.8358e-04 - val_loss: nan\n",
            "Epoch 41/100\n",
            "13/13 [==============================] - 4s 330ms/step - loss: 6.1059e-04 - val_loss: nan\n",
            "Epoch 42/100\n",
            "13/13 [==============================] - 4s 331ms/step - loss: 5.9852e-04 - val_loss: nan\n",
            "Epoch 43/100\n",
            "13/13 [==============================] - 4s 331ms/step - loss: 5.8016e-04 - val_loss: nan\n",
            "Epoch 44/100\n",
            "13/13 [==============================] - 4s 332ms/step - loss: 5.6717e-04 - val_loss: nan\n",
            "Epoch 45/100\n",
            "13/13 [==============================] - 4s 329ms/step - loss: 6.1025e-04 - val_loss: nan\n",
            "Epoch 46/100\n",
            "13/13 [==============================] - 4s 331ms/step - loss: 6.2585e-04 - val_loss: nan\n",
            "Epoch 47/100\n",
            "13/13 [==============================] - 4s 330ms/step - loss: 6.1221e-04 - val_loss: nan\n",
            "Epoch 48/100\n",
            "13/13 [==============================] - 4s 333ms/step - loss: 6.0077e-04 - val_loss: nan\n",
            "Epoch 49/100\n",
            "13/13 [==============================] - 4s 334ms/step - loss: 5.7413e-04 - val_loss: nan\n",
            "Epoch 50/100\n",
            "13/13 [==============================] - 4s 330ms/step - loss: 5.7571e-04 - val_loss: nan\n",
            "Epoch 51/100\n",
            "13/13 [==============================] - 4s 332ms/step - loss: 5.5212e-04 - val_loss: nan\n",
            "Epoch 52/100\n",
            "13/13 [==============================] - 4s 329ms/step - loss: 5.8681e-04 - val_loss: nan\n",
            "Epoch 53/100\n",
            "13/13 [==============================] - 4s 331ms/step - loss: 5.8421e-04 - val_loss: nan\n",
            "Epoch 54/100\n",
            "13/13 [==============================] - 4s 332ms/step - loss: 5.2658e-04 - val_loss: nan\n",
            "Epoch 55/100\n",
            "13/13 [==============================] - 4s 332ms/step - loss: 5.5057e-04 - val_loss: nan\n",
            "Epoch 56/100\n",
            "13/13 [==============================] - 4s 332ms/step - loss: 5.3552e-04 - val_loss: nan\n",
            "Epoch 57/100\n",
            "13/13 [==============================] - 4s 334ms/step - loss: 5.8217e-04 - val_loss: nan\n",
            "Epoch 58/100\n",
            "13/13 [==============================] - 4s 332ms/step - loss: 5.4082e-04 - val_loss: nan\n",
            "Epoch 59/100\n",
            "13/13 [==============================] - 4s 333ms/step - loss: 5.2699e-04 - val_loss: nan\n",
            "Epoch 60/100\n",
            "13/13 [==============================] - 4s 331ms/step - loss: 5.6530e-04 - val_loss: nan\n",
            "Epoch 61/100\n",
            "13/13 [==============================] - 4s 333ms/step - loss: 5.2002e-04 - val_loss: nan\n",
            "Epoch 62/100\n",
            "13/13 [==============================] - 5s 403ms/step - loss: 5.4045e-04 - val_loss: nan\n",
            "Epoch 63/100\n",
            "13/13 [==============================] - 4s 331ms/step - loss: 4.9719e-04 - val_loss: nan\n",
            "Epoch 64/100\n",
            "13/13 [==============================] - 4s 332ms/step - loss: 5.0418e-04 - val_loss: nan\n",
            "Epoch 65/100\n",
            "13/13 [==============================] - 4s 333ms/step - loss: 5.2150e-04 - val_loss: nan\n",
            "Epoch 66/100\n",
            "13/13 [==============================] - 4s 332ms/step - loss: 5.0096e-04 - val_loss: nan\n",
            "Epoch 67/100\n",
            "13/13 [==============================] - 4s 331ms/step - loss: 4.9008e-04 - val_loss: nan\n",
            "Epoch 68/100\n",
            "13/13 [==============================] - 4s 334ms/step - loss: 4.9818e-04 - val_loss: nan\n",
            "Epoch 69/100\n",
            "13/13 [==============================] - 4s 333ms/step - loss: 5.2350e-04 - val_loss: nan\n",
            "Epoch 70/100\n",
            "13/13 [==============================] - 4s 331ms/step - loss: 5.0045e-04 - val_loss: nan\n",
            "Epoch 71/100\n",
            "13/13 [==============================] - 4s 331ms/step - loss: 4.7234e-04 - val_loss: nan\n",
            "Epoch 72/100\n",
            "13/13 [==============================] - 4s 332ms/step - loss: 4.7727e-04 - val_loss: nan\n",
            "Epoch 73/100\n",
            "13/13 [==============================] - 4s 327ms/step - loss: 4.7439e-04 - val_loss: nan\n",
            "Epoch 74/100\n",
            "13/13 [==============================] - 4s 328ms/step - loss: 4.8700e-04 - val_loss: nan\n",
            "Epoch 75/100\n",
            "13/13 [==============================] - 4s 332ms/step - loss: 5.3151e-04 - val_loss: nan\n",
            "Epoch 76/100\n",
            "13/13 [==============================] - 4s 329ms/step - loss: 5.3564e-04 - val_loss: nan\n",
            "Epoch 77/100\n",
            "13/13 [==============================] - 4s 329ms/step - loss: 5.4096e-04 - val_loss: nan\n",
            "Epoch 78/100\n",
            "13/13 [==============================] - 4s 328ms/step - loss: 4.7794e-04 - val_loss: nan\n",
            "Epoch 79/100\n",
            "13/13 [==============================] - 4s 330ms/step - loss: 4.9540e-04 - val_loss: nan\n",
            "Epoch 80/100\n",
            "13/13 [==============================] - 4s 328ms/step - loss: 5.3545e-04 - val_loss: nan\n",
            "Epoch 81/100\n",
            "13/13 [==============================] - 4s 332ms/step - loss: 4.9265e-04 - val_loss: nan\n",
            "Epoch 82/100\n",
            "13/13 [==============================] - 4s 330ms/step - loss: 4.8314e-04 - val_loss: nan\n",
            "Epoch 83/100\n",
            "13/13 [==============================] - 4s 332ms/step - loss: 4.5769e-04 - val_loss: nan\n",
            "Epoch 84/100\n",
            "13/13 [==============================] - 4s 330ms/step - loss: 4.5436e-04 - val_loss: nan\n",
            "Epoch 85/100\n",
            "13/13 [==============================] - 4s 330ms/step - loss: 4.4167e-04 - val_loss: nan\n",
            "Epoch 86/100\n",
            "13/13 [==============================] - 4s 332ms/step - loss: 4.3067e-04 - val_loss: nan\n",
            "Epoch 87/100\n",
            "13/13 [==============================] - 4s 331ms/step - loss: 4.3989e-04 - val_loss: nan\n",
            "Epoch 88/100\n",
            "13/13 [==============================] - 4s 332ms/step - loss: 4.3833e-04 - val_loss: nan\n",
            "Epoch 89/100\n",
            "13/13 [==============================] - 4s 333ms/step - loss: 4.3226e-04 - val_loss: nan\n",
            "Epoch 90/100\n",
            "13/13 [==============================] - 4s 331ms/step - loss: 4.1952e-04 - val_loss: nan\n",
            "Epoch 91/100\n",
            "13/13 [==============================] - 4s 331ms/step - loss: 4.3758e-04 - val_loss: nan\n",
            "Epoch 92/100\n",
            "13/13 [==============================] - 4s 331ms/step - loss: 5.1595e-04 - val_loss: nan\n",
            "Epoch 93/100\n",
            "13/13 [==============================] - 4s 331ms/step - loss: 4.2642e-04 - val_loss: nan\n",
            "Epoch 94/100\n",
            "13/13 [==============================] - 4s 333ms/step - loss: 4.3216e-04 - val_loss: nan\n",
            "Epoch 95/100\n",
            "13/13 [==============================] - 4s 333ms/step - loss: 4.1610e-04 - val_loss: nan\n",
            "Epoch 96/100\n",
            "13/13 [==============================] - 4s 331ms/step - loss: 4.5563e-04 - val_loss: nan\n",
            "Epoch 97/100\n",
            "13/13 [==============================] - 4s 332ms/step - loss: 4.3281e-04 - val_loss: nan\n",
            "Epoch 98/100\n",
            "13/13 [==============================] - 4s 331ms/step - loss: 4.0661e-04 - val_loss: nan\n",
            "Epoch 99/100\n",
            "13/13 [==============================] - 4s 333ms/step - loss: 3.8375e-04 - val_loss: nan\n",
            "Epoch 100/100\n",
            "13/13 [==============================] - 4s 335ms/step - loss: 4.3360e-04 - val_loss: nan\n"
          ]
        },
        {
          "output_type": "execute_result",
          "data": {
            "text/plain": [
              "<tensorflow.python.keras.callbacks.History at 0x7fcb420c0a90>"
            ]
          },
          "metadata": {},
          "execution_count": 35
        }
      ]
    },
    {
      "cell_type": "code",
      "source": [
        "len(test_data), x_test.shape"
      ],
      "metadata": {
        "id": "Ve1kiVDkiTCw",
        "colab": {
          "base_uri": "https://localhost:8080/"
        },
        "outputId": "78f9cf58-50fd-47dc-f8e1-a5053e80904f"
      },
      "execution_count": null,
      "outputs": [
        {
          "output_type": "execute_result",
          "data": {
            "text/plain": [
              "(308, (207, 100, 1))"
            ]
          },
          "metadata": {},
          "execution_count": 36
        }
      ]
    },
    {
      "cell_type": "code",
      "source": [
        "#Lets predict and check performance metrics\n",
        "train_predict = model.predict(x_train)\n",
        "test_predict = model.predict(x_test)"
      ],
      "metadata": {
        "id": "MbYoXfl3iTGI"
      },
      "execution_count": null,
      "outputs": []
    },
    {
      "cell_type": "code",
      "source": [
        "#Transform back to original form\n",
        "train_predict = scaler.inverse_transform(train_predict)\n",
        "test_predict = scaler.inverse_transform(test_predict)"
      ],
      "metadata": {
        "id": "69FU6V0wioOy"
      },
      "execution_count": null,
      "outputs": []
    },
    {
      "cell_type": "code",
      "source": [
        "#Calculate RMSE performance metrics\n",
        "math.sqrt(mean_squared_error(y_train, train_predict))"
      ],
      "metadata": {
        "id": "S7tl_gE9ioRB",
        "colab": {
          "base_uri": "https://localhost:8080/"
        },
        "outputId": "3149a8dc-5be7-4de3-8992-b7922fac1ab5"
      },
      "execution_count": null,
      "outputs": [
        {
          "output_type": "execute_result",
          "data": {
            "text/plain": [
              "796.739533203873"
            ]
          },
          "metadata": {},
          "execution_count": 39
        }
      ]
    },
    {
      "cell_type": "code",
      "source": [
        "#Plotting\n",
        "\n",
        "#Shift train prediction for plotting\n",
        "look_back = 100\n",
        "trainPredictPlot = np.empty_like(df_close)\n",
        "trainPredictPlot[:,:] = np.nan\n",
        "trainPredictPlot[look_back:len(train_predict) + look_back, :] = train_predict\n",
        "\n",
        "#Shift test prediction for plotting\n",
        "testPredictPlot = np.empty_like(df_close)\n",
        "testPredictPlot[:,:] = np.nan\n",
        "testPredictPlot[len(train_predict) + (look_back * 2)+1:len(df_close) - 1, :] = test_predict\n",
        "\n",
        "#Plot baseline and predictions\n",
        "plt.plot(scaler.inverse_transform(df_close))\n",
        "plt.plot(trainPredictPlot)\n",
        "plt.plot(testPredictPlot)\n",
        "plt.show()"
      ],
      "metadata": {
        "id": "xLfGn3K_ioUw",
        "colab": {
          "base_uri": "https://localhost:8080/",
          "height": 265
        },
        "outputId": "bba5c9ff-7aab-4089-9dd0-a4ce91b23f37"
      },
      "execution_count": null,
      "outputs": [
        {
          "output_type": "display_data",
          "data": {
            "text/plain": [
              "<Figure size 432x288 with 1 Axes>"
            ],
            "image/png": "[encoded data removed]"
          },
          "metadata": {
            "needs_background": "light"
          }
        }
      ]
    },
    {
      "cell_type": "code",
      "source": [
        "len(test_data), x_test.shape"
      ],
      "metadata": {
        "id": "F-fPXKtlioWz",
        "colab": {
          "base_uri": "https://localhost:8080/"
        },
        "outputId": "72661763-9dfe-463f-e832-033e72325647"
      },
      "execution_count": null,
      "outputs": [
        {
          "output_type": "execute_result",
          "data": {
            "text/plain": [
              "(308, (207, 100, 1))"
            ]
          },
          "metadata": {},
          "execution_count": 42
        }
      ]
    },
    {
      "cell_type": "code",
      "source": [
        "x_input = test_data[207:].reshape(1,-1)\n",
        "x_input.shape"
      ],
      "metadata": {
        "id": "IO62Ic6sioYk",
        "colab": {
          "base_uri": "https://localhost:8080/"
        },
        "outputId": "5a7719dc-ce5b-4c88-d04f-1b2fe82b3b10"
      },
      "execution_count": null,
      "outputs": [
        {
          "output_type": "execute_result",
          "data": {
            "text/plain": [
              "(1, 101)"
            ]
          },
          "metadata": {},
          "execution_count": 43
        }
      ]
    },
    {
      "cell_type": "code",
      "source": [
        "temp_input = list(x_input)\n",
        "temp_input = temp_input[0].tolist()"
      ],
      "metadata": {
        "id": "InD1lWaciob-"
      },
      "execution_count": null,
      "outputs": []
    },
    {
      "cell_type": "code",
      "source": [
        "lst_output=[]\n",
        "n_steps=100\n",
        "nextNumberOfDays = 30\n",
        "i=0\n",
        "\n",
        "while(i<nextNumberOfDays):\n",
        "    \n",
        "    if(len(temp_input)>100):\n",
        "        x_input=np.array(temp_input[1:])\n",
        "        print(\"{} day input {}\".format(i,x_input))\n",
        "        x_input=x_input.reshape(1,-1)\n",
        "        x_input = x_input.reshape((1, n_steps, 1))\n",
        "        yhat = model.predict(x_input, verbose=0)\n",
        "        print(\"{} day output {}\".format(i,yhat))\n",
        "        temp_input.extend(yhat[0].tolist())\n",
        "        temp_input=temp_input[1:]\n",
        "        lst_output.extend(yhat.tolist())\n",
        "        i=i+1\n",
        "    else:\n",
        "        x_input = x_input.reshape((1, n_steps,1))\n",
        "        yhat = model.predict(x_input, verbose=0)\n",
        "        print(yhat[0])\n",
        "        temp_input.extend(yhat[0].tolist())\n",
        "        print(len(temp_input))\n",
        "        lst_output.extend(yhat.tolist())\n",
        "        i=i+1\n",
        "    \n",
        "\n",
        "print(lst_output)"
      ],
      "metadata": {
        "id": "Ns860__6i3jY",
        "colab": {
          "base_uri": "https://localhost:8080/"
        },
        "outputId": "7e57287f-98ec-4331-c49a-415dbf1b196e"
      },
      "execution_count": null,
      "outputs": [
        {
          "output_type": "stream",
          "name": "stdout",
          "text": [
            "0 day input [0.91118463 0.8962495  0.8619449  0.83805724 0.8176418  0.81283079\n",
            " 0.76463703 0.75417831 0.7765181  0.77388248 0.74999482 0.71640139\n",
            " 0.5851654  0.6181313  0.5423683  0.57776065 0.50279251 0.49634993\n",
            " 0.46330038 0.42079615 0.50467508 0.39264125 0.44229929 0.55847473\n",
            " 0.54504569 0.54454369 0.51513375 0.5848307  0.55696863 0.55445854\n",
            " 0.6620997  0.65042781 0.67368794 0.64791772 0.61503546 0.63026342\n",
            " 0.67707661 0.69364326 0.6882465  0.79387957 0.7999875  0.83855924\n",
            " 0.84922714 0.84788844 0.84688434 0.86803608 0.84250843 0.86360165\n",
            " 0.86368529 0.90198096 0.9474387  0.95987202 0.87902192 0.90503482\n",
            " 0.85441462 0.87403524 0.85843081 0.83178201 0.85253205 0.85884916\n",
            " 0.85073323 0.844458   0.862447   0.88478678 0.87821873 0.92503192\n",
            " 0.9378752  0.94285362 0.97477365 0.97636329 0.90367293 0.90434194\n",
            " 0.89465261 0.87852991 0.85840398 0.83648211 0.81377506 0.79086459\n",
            " 0.76816761 0.74602813 0.72473735 0.7045337  0.68559802 0.66805243\n",
            " 0.65196353 0.63734591 0.62417126 0.61237633 0.60187107 0.59254742\n",
            " 0.58428633 0.57696402 0.57045716 0.56464612 0.55941898 0.5546723\n",
            " 0.55031353 0.54626101 0.54244399 0.53880292]\n",
            "0 day output [[0.5352888]]\n",
            "1 day input [0.8962495  0.8619449  0.83805724 0.8176418  0.81283079 0.76463703\n",
            " 0.75417831 0.7765181  0.77388248 0.74999482 0.71640139 0.5851654\n",
            " 0.6181313  0.5423683  0.57776065 0.50279251 0.49634993 0.46330038\n",
            " 0.42079615 0.50467508 0.39264125 0.44229929 0.55847473 0.54504569\n",
            " 0.54454369 0.51513375 0.5848307  0.55696863 0.55445854 0.6620997\n",
            " 0.65042781 0.67368794 0.64791772 0.61503546 0.63026342 0.67707661\n",
            " 0.69364326 0.6882465  0.79387957 0.7999875  0.83855924 0.84922714\n",
            " 0.84788844 0.84688434 0.86803608 0.84250843 0.86360165 0.86368529\n",
            " 0.90198096 0.9474387  0.95987202 0.87902192 0.90503482 0.85441462\n",
            " 0.87403524 0.85843081 0.83178201 0.85253205 0.85884916 0.85073323\n",
            " 0.844458   0.862447   0.88478678 0.87821873 0.92503192 0.9378752\n",
            " 0.94285362 0.97477365 0.97636329 0.90367293 0.90434194 0.89465261\n",
            " 0.87852991 0.85840398 0.83648211 0.81377506 0.79086459 0.76816761\n",
            " 0.74602813 0.72473735 0.7045337  0.68559802 0.66805243 0.65196353\n",
            " 0.63734591 0.62417126 0.61237633 0.60187107 0.59254742 0.58428633\n",
            " 0.57696402 0.57045716 0.56464612 0.55941898 0.5546723  0.55031353\n",
            " 0.54626101 0.54244399 0.53880292 0.53528881]\n",
            "1 day output [[0.5318622]]\n",
            "2 day input [0.8619449  0.83805724 0.8176418  0.81283079 0.76463703 0.75417831\n",
            " 0.7765181  0.77388248 0.74999482 0.71640139 0.5851654  0.6181313\n",
            " 0.5423683  0.57776065 0.50279251 0.49634993 0.46330038 0.42079615\n",
            " 0.50467508 0.39264125 0.44229929 0.55847473 0.54504569 0.54454369\n",
            " 0.51513375 0.5848307  0.55696863 0.55445854 0.6620997  0.65042781\n",
            " 0.67368794 0.64791772 0.61503546 0.63026342 0.67707661 0.69364326\n",
            " 0.6882465  0.79387957 0.7999875  0.83855924 0.84922714 0.84788844\n",
            " 0.84688434 0.86803608 0.84250843 0.86360165 0.86368529 0.90198096\n",
            " 0.9474387  0.95987202 0.87902192 0.90503482 0.85441462 0.87403524\n",
            " 0.85843081 0.83178201 0.85253205 0.85884916 0.85073323 0.844458\n",
            " 0.862447   0.88478678 0.87821873 0.92503192 0.9378752  0.94285362\n",
            " 0.97477365 0.97636329 0.90367293 0.90434194 0.89465261 0.87852991\n",
            " 0.85840398 0.83648211 0.81377506 0.79086459 0.76816761 0.74602813\n",
            " 0.72473735 0.7045337  0.68559802 0.66805243 0.65196353 0.63734591\n",
            " 0.62417126 0.61237633 0.60187107 0.59254742 0.58428633 0.57696402\n",
            " 0.57045716 0.56464612 0.55941898 0.5546723  0.55031353 0.54626101\n",
            " 0.54244399 0.53880292 0.53528881 0.5318622 ]\n",
            "2 day output [[0.52849245]]\n",
            "3 day input [0.83805724 0.8176418  0.81283079 0.76463703 0.75417831 0.7765181\n",
            " 0.77388248 0.74999482 0.71640139 0.5851654  0.6181313  0.5423683\n",
            " 0.57776065 0.50279251 0.49634993 0.46330038 0.42079615 0.50467508\n",
            " 0.39264125 0.44229929 0.55847473 0.54504569 0.54454369 0.51513375\n",
            " 0.5848307  0.55696863 0.55445854 0.6620997  0.65042781 0.67368794\n",
            " 0.64791772 0.61503546 0.63026342 0.67707661 0.69364326 0.6882465\n",
            " 0.79387957 0.7999875  0.83855924 0.84922714 0.84788844 0.84688434\n",
            " 0.86803608 0.84250843 0.86360165 0.86368529 0.90198096 0.9474387\n",
            " 0.95987202 0.87902192 0.90503482 0.85441462 0.87403524 0.85843081\n",
            " 0.83178201 0.85253205 0.85884916 0.85073323 0.844458   0.862447\n",
            " 0.88478678 0.87821873 0.92503192 0.9378752  0.94285362 0.97477365\n",
            " 0.97636329 0.90367293 0.90434194 0.89465261 0.87852991 0.85840398\n",
            " 0.83648211 0.81377506 0.79086459 0.76816761 0.74602813 0.72473735\n",
            " 0.7045337  0.68559802 0.66805243 0.65196353 0.63734591 0.62417126\n",
            " 0.61237633 0.60187107 0.59254742 0.58428633 0.57696402 0.57045716\n",
            " 0.56464612 0.55941898 0.5546723  0.55031353 0.54626101 0.54244399\n",
            " 0.53880292 0.53528881 0.5318622  0.52849245]\n",
            "3 day output [[0.5251568]]\n",
            "4 day input [0.8176418  0.81283079 0.76463703 0.75417831 0.7765181  0.77388248\n",
            " 0.74999482 0.71640139 0.5851654  0.6181313  0.5423683  0.57776065\n",
            " 0.50279251 0.49634993 0.46330038 0.42079615 0.50467508 0.39264125\n",
            " 0.44229929 0.55847473 0.54504569 0.54454369 0.51513375 0.5848307\n",
            " 0.55696863 0.55445854 0.6620997  0.65042781 0.67368794 0.64791772\n",
            " 0.61503546 0.63026342 0.67707661 0.69364326 0.6882465  0.79387957\n",
            " 0.7999875  0.83855924 0.84922714 0.84788844 0.84688434 0.86803608\n",
            " 0.84250843 0.86360165 0.86368529 0.90198096 0.9474387  0.95987202\n",
            " 0.87902192 0.90503482 0.85441462 0.87403524 0.85843081 0.83178201\n",
            " 0.85253205 0.85884916 0.85073323 0.844458   0.862447   0.88478678\n",
            " 0.87821873 0.92503192 0.9378752  0.94285362 0.97477365 0.97636329\n",
            " 0.90367293 0.90434194 0.89465261 0.87852991 0.85840398 0.83648211\n",
            " 0.81377506 0.79086459 0.76816761 0.74602813 0.72473735 0.7045337\n",
            " 0.68559802 0.66805243 0.65196353 0.63734591 0.62417126 0.61237633\n",
            " 0.60187107 0.59254742 0.58428633 0.57696402 0.57045716 0.56464612\n",
            " 0.55941898 0.5546723  0.55031353 0.54626101 0.54244399 0.53880292\n",
            " 0.53528881 0.5318622  0.52849245 0.5251568 ]\n",
            "4 day output [[0.5218391]]\n",
            "5 day input [0.81283079 0.76463703 0.75417831 0.7765181  0.77388248 0.74999482\n",
            " 0.71640139 0.5851654  0.6181313  0.5423683  0.57776065 0.50279251\n",
            " 0.49634993 0.46330038 0.42079615 0.50467508 0.39264125 0.44229929\n",
            " 0.55847473 0.54504569 0.54454369 0.51513375 0.5848307  0.55696863\n",
            " 0.55445854 0.6620997  0.65042781 0.67368794 0.64791772 0.61503546\n",
            " 0.63026342 0.67707661 0.69364326 0.6882465  0.79387957 0.7999875\n",
            " 0.83855924 0.84922714 0.84788844 0.84688434 0.86803608 0.84250843\n",
            " 0.86360165 0.86368529 0.90198096 0.9474387  0.95987202 0.87902192\n",
            " 0.90503482 0.85441462 0.87403524 0.85843081 0.83178201 0.85253205\n",
            " 0.85884916 0.85073323 0.844458   0.862447   0.88478678 0.87821873\n",
            " 0.92503192 0.9378752  0.94285362 0.97477365 0.97636329 0.90367293\n",
            " 0.90434194 0.89465261 0.87852991 0.85840398 0.83648211 0.81377506\n",
            " 0.79086459 0.76816761 0.74602813 0.72473735 0.7045337  0.68559802\n",
            " 0.66805243 0.65196353 0.63734591 0.62417126 0.61237633 0.60187107\n",
            " 0.59254742 0.58428633 0.57696402 0.57045716 0.56464612 0.55941898\n",
            " 0.5546723  0.55031353 0.54626101 0.54244399 0.53880292 0.53528881\n",
            " 0.5318622  0.52849245 0.5251568  0.52183908]\n",
            "5 day output [[0.51852924]]\n",
            "6 day input [0.76463703 0.75417831 0.7765181  0.77388248 0.74999482 0.71640139\n",
            " 0.5851654  0.6181313  0.5423683  0.57776065 0.50279251 0.49634993\n",
            " 0.46330038 0.42079615 0.50467508 0.39264125 0.44229929 0.55847473\n",
            " 0.54504569 0.54454369 0.51513375 0.5848307  0.55696863 0.55445854\n",
            " 0.6620997  0.65042781 0.67368794 0.64791772 0.61503546 0.63026342\n",
            " 0.67707661 0.69364326 0.6882465  0.79387957 0.7999875  0.83855924\n",
            " 0.84922714 0.84788844 0.84688434 0.86803608 0.84250843 0.86360165\n",
            " 0.86368529 0.90198096 0.9474387  0.95987202 0.87902192 0.90503482\n",
            " 0.85441462 0.87403524 0.85843081 0.83178201 0.85253205 0.85884916\n",
            " 0.85073323 0.844458   0.862447   0.88478678 0.87821873 0.92503192\n",
            " 0.9378752  0.94285362 0.97477365 0.97636329 0.90367293 0.90434194\n",
            " 0.89465261 0.87852991 0.85840398 0.83648211 0.81377506 0.79086459\n",
            " 0.76816761 0.74602813 0.72473735 0.7045337  0.68559802 0.66805243\n",
            " 0.65196353 0.63734591 0.62417126 0.61237633 0.60187107 0.59254742\n",
            " 0.58428633 0.57696402 0.57045716 0.56464612 0.55941898 0.5546723\n",
            " 0.55031353 0.54626101 0.54244399 0.53880292 0.53528881 0.5318622\n",
            " 0.52849245 0.5251568  0.52183908 0.51852924]\n",
            "6 day output [[0.5152213]]\n",
            "7 day input [0.75417831 0.7765181  0.77388248 0.74999482 0.71640139 0.5851654\n",
            " 0.6181313  0.5423683  0.57776065 0.50279251 0.49634993 0.46330038\n",
            " 0.42079615 0.50467508 0.39264125 0.44229929 0.55847473 0.54504569\n",
            " 0.54454369 0.51513375 0.5848307  0.55696863 0.55445854 0.6620997\n",
            " 0.65042781 0.67368794 0.64791772 0.61503546 0.63026342 0.67707661\n",
            " 0.69364326 0.6882465  0.79387957 0.7999875  0.83855924 0.84922714\n",
            " 0.84788844 0.84688434 0.86803608 0.84250843 0.86360165 0.86368529\n",
            " 0.90198096 0.9474387  0.95987202 0.87902192 0.90503482 0.85441462\n",
            " 0.87403524 0.85843081 0.83178201 0.85253205 0.85884916 0.85073323\n",
            " 0.844458   0.862447   0.88478678 0.87821873 0.92503192 0.9378752\n",
            " 0.94285362 0.97477365 0.97636329 0.90367293 0.90434194 0.89465261\n",
            " 0.87852991 0.85840398 0.83648211 0.81377506 0.79086459 0.76816761\n",
            " 0.74602813 0.72473735 0.7045337  0.68559802 0.66805243 0.65196353\n",
            " 0.63734591 0.62417126 0.61237633 0.60187107 0.59254742 0.58428633\n",
            " 0.57696402 0.57045716 0.56464612 0.55941898 0.5546723  0.55031353\n",
            " 0.54626101 0.54244399 0.53880292 0.53528881 0.5318622  0.52849245\n",
            " 0.5251568  0.52183908 0.51852924 0.5152213 ]\n",
            "7 day output [[0.5119137]]\n",
            "8 day input [0.7765181  0.77388248 0.74999482 0.71640139 0.5851654  0.6181313\n",
            " 0.5423683  0.57776065 0.50279251 0.49634993 0.46330038 0.42079615\n",
            " 0.50467508 0.39264125 0.44229929 0.55847473 0.54504569 0.54454369\n",
            " 0.51513375 0.5848307  0.55696863 0.55445854 0.6620997  0.65042781\n",
            " 0.67368794 0.64791772 0.61503546 0.63026342 0.67707661 0.69364326\n",
            " 0.6882465  0.79387957 0.7999875  0.83855924 0.84922714 0.84788844\n",
            " 0.84688434 0.86803608 0.84250843 0.86360165 0.86368529 0.90198096\n",
            " 0.9474387  0.95987202 0.87902192 0.90503482 0.85441462 0.87403524\n",
            " 0.85843081 0.83178201 0.85253205 0.85884916 0.85073323 0.844458\n",
            " 0.862447   0.88478678 0.87821873 0.92503192 0.9378752  0.94285362\n",
            " 0.97477365 0.97636329 0.90367293 0.90434194 0.89465261 0.87852991\n",
            " 0.85840398 0.83648211 0.81377506 0.79086459 0.76816761 0.74602813\n",
            " 0.72473735 0.7045337  0.68559802 0.66805243 0.65196353 0.63734591\n",
            " 0.62417126 0.61237633 0.60187107 0.59254742 0.58428633 0.57696402\n",
            " 0.57045716 0.56464612 0.55941898 0.5546723  0.55031353 0.54626101\n",
            " 0.54244399 0.53880292 0.53528881 0.5318622  0.52849245 0.5251568\n",
            " 0.52183908 0.51852924 0.5152213  0.51191372]\n",
            "8 day output [[0.5086076]]\n",
            "9 day input [0.77388248 0.74999482 0.71640139 0.5851654  0.6181313  0.5423683\n",
            " 0.57776065 0.50279251 0.49634993 0.46330038 0.42079615 0.50467508\n",
            " 0.39264125 0.44229929 0.55847473 0.54504569 0.54454369 0.51513375\n",
            " 0.5848307  0.55696863 0.55445854 0.6620997  0.65042781 0.67368794\n",
            " 0.64791772 0.61503546 0.63026342 0.67707661 0.69364326 0.6882465\n",
            " 0.79387957 0.7999875  0.83855924 0.84922714 0.84788844 0.84688434\n",
            " 0.86803608 0.84250843 0.86360165 0.86368529 0.90198096 0.9474387\n",
            " 0.95987202 0.87902192 0.90503482 0.85441462 0.87403524 0.85843081\n",
            " 0.83178201 0.85253205 0.85884916 0.85073323 0.844458   0.862447\n",
            " 0.88478678 0.87821873 0.92503192 0.9378752  0.94285362 0.97477365\n",
            " 0.97636329 0.90367293 0.90434194 0.89465261 0.87852991 0.85840398\n",
            " 0.83648211 0.81377506 0.79086459 0.76816761 0.74602813 0.72473735\n",
            " 0.7045337  0.68559802 0.66805243 0.65196353 0.63734591 0.62417126\n",
            " 0.61237633 0.60187107 0.59254742 0.58428633 0.57696402 0.57045716\n",
            " 0.56464612 0.55941898 0.5546723  0.55031353 0.54626101 0.54244399\n",
            " 0.53880292 0.53528881 0.5318622  0.52849245 0.5251568  0.52183908\n",
            " 0.51852924 0.5152213  0.51191372 0.50860763]\n",
            "9 day output [[0.50530595]]\n",
            "10 day input [0.74999482 0.71640139 0.5851654  0.6181313  0.5423683  0.57776065\n",
            " 0.50279251 0.49634993 0.46330038 0.42079615 0.50467508 0.39264125\n",
            " 0.44229929 0.55847473 0.54504569 0.54454369 0.51513375 0.5848307\n",
            " 0.55696863 0.55445854 0.6620997  0.65042781 0.67368794 0.64791772\n",
            " 0.61503546 0.63026342 0.67707661 0.69364326 0.6882465  0.79387957\n",
            " 0.7999875  0.83855924 0.84922714 0.84788844 0.84688434 0.86803608\n",
            " 0.84250843 0.86360165 0.86368529 0.90198096 0.9474387  0.95987202\n",
            " 0.87902192 0.90503482 0.85441462 0.87403524 0.85843081 0.83178201\n",
            " 0.85253205 0.85884916 0.85073323 0.844458   0.862447   0.88478678\n",
            " 0.87821873 0.92503192 0.9378752  0.94285362 0.97477365 0.97636329\n",
            " 0.90367293 0.90434194 0.89465261 0.87852991 0.85840398 0.83648211\n",
            " 0.81377506 0.79086459 0.76816761 0.74602813 0.72473735 0.7045337\n",
            " 0.68559802 0.66805243 0.65196353 0.63734591 0.62417126 0.61237633\n",
            " 0.60187107 0.59254742 0.58428633 0.57696402 0.57045716 0.56464612\n",
            " 0.55941898 0.5546723  0.55031353 0.54626101 0.54244399 0.53880292\n",
            " 0.53528881 0.5318622  0.52849245 0.5251568  0.52183908 0.51852924\n",
            " 0.5152213  0.51191372 0.50860763 0.50530595]\n",
            "10 day output [[0.50201344]]\n",
            "11 day input [0.71640139 0.5851654  0.6181313  0.5423683  0.57776065 0.50279251\n",
            " 0.49634993 0.46330038 0.42079615 0.50467508 0.39264125 0.44229929\n",
            " 0.55847473 0.54504569 0.54454369 0.51513375 0.5848307  0.55696863\n",
            " 0.55445854 0.6620997  0.65042781 0.67368794 0.64791772 0.61503546\n",
            " 0.63026342 0.67707661 0.69364326 0.6882465  0.79387957 0.7999875\n",
            " 0.83855924 0.84922714 0.84788844 0.84688434 0.86803608 0.84250843\n",
            " 0.86360165 0.86368529 0.90198096 0.9474387  0.95987202 0.87902192\n",
            " 0.90503482 0.85441462 0.87403524 0.85843081 0.83178201 0.85253205\n",
            " 0.85884916 0.85073323 0.844458   0.862447   0.88478678 0.87821873\n",
            " 0.92503192 0.9378752  0.94285362 0.97477365 0.97636329 0.90367293\n",
            " 0.90434194 0.89465261 0.87852991 0.85840398 0.83648211 0.81377506\n",
            " 0.79086459 0.76816761 0.74602813 0.72473735 0.7045337  0.68559802\n",
            " 0.66805243 0.65196353 0.63734591 0.62417126 0.61237633 0.60187107\n",
            " 0.59254742 0.58428633 0.57696402 0.57045716 0.56464612 0.55941898\n",
            " 0.5546723  0.55031353 0.54626101 0.54244399 0.53880292 0.53528881\n",
            " 0.5318622  0.52849245 0.5251568  0.52183908 0.51852924 0.5152213\n",
            " 0.51191372 0.50860763 0.50530595 0.50201344]\n",
            "11 day output [[0.49873602]]\n",
            "12 day input [0.5851654  0.6181313  0.5423683  0.57776065 0.50279251 0.49634993\n",
            " 0.46330038 0.42079615 0.50467508 0.39264125 0.44229929 0.55847473\n",
            " 0.54504569 0.54454369 0.51513375 0.5848307  0.55696863 0.55445854\n",
            " 0.6620997  0.65042781 0.67368794 0.64791772 0.61503546 0.63026342\n",
            " 0.67707661 0.69364326 0.6882465  0.79387957 0.7999875  0.83855924\n",
            " 0.84922714 0.84788844 0.84688434 0.86803608 0.84250843 0.86360165\n",
            " 0.86368529 0.90198096 0.9474387  0.95987202 0.87902192 0.90503482\n",
            " 0.85441462 0.87403524 0.85843081 0.83178201 0.85253205 0.85884916\n",
            " 0.85073323 0.844458   0.862447   0.88478678 0.87821873 0.92503192\n",
            " 0.9378752  0.94285362 0.97477365 0.97636329 0.90367293 0.90434194\n",
            " 0.89465261 0.87852991 0.85840398 0.83648211 0.81377506 0.79086459\n",
            " 0.76816761 0.74602813 0.72473735 0.7045337  0.68559802 0.66805243\n",
            " 0.65196353 0.63734591 0.62417126 0.61237633 0.60187107 0.59254742\n",
            " 0.58428633 0.57696402 0.57045716 0.56464612 0.55941898 0.5546723\n",
            " 0.55031353 0.54626101 0.54244399 0.53880292 0.53528881 0.5318622\n",
            " 0.52849245 0.5251568  0.52183908 0.51852924 0.5152213  0.51191372\n",
            " 0.50860763 0.50530595 0.50201344 0.49873602]\n",
            "12 day output [[0.49547905]]\n",
            "13 day input [0.6181313  0.5423683  0.57776065 0.50279251 0.49634993 0.46330038\n",
            " 0.42079615 0.50467508 0.39264125 0.44229929 0.55847473 0.54504569\n",
            " 0.54454369 0.51513375 0.5848307  0.55696863 0.55445854 0.6620997\n",
            " 0.65042781 0.67368794 0.64791772 0.61503546 0.63026342 0.67707661\n",
            " 0.69364326 0.6882465  0.79387957 0.7999875  0.83855924 0.84922714\n",
            " 0.84788844 0.84688434 0.86803608 0.84250843 0.86360165 0.86368529\n",
            " 0.90198096 0.9474387  0.95987202 0.87902192 0.90503482 0.85441462\n",
            " 0.87403524 0.85843081 0.83178201 0.85253205 0.85884916 0.85073323\n",
            " 0.844458   0.862447   0.88478678 0.87821873 0.92503192 0.9378752\n",
            " 0.94285362 0.97477365 0.97636329 0.90367293 0.90434194 0.89465261\n",
            " 0.87852991 0.85840398 0.83648211 0.81377506 0.79086459 0.76816761\n",
            " 0.74602813 0.72473735 0.7045337  0.68559802 0.66805243 0.65196353\n",
            " 0.63734591 0.62417126 0.61237633 0.60187107 0.59254742 0.58428633\n",
            " 0.57696402 0.57045716 0.56464612 0.55941898 0.5546723  0.55031353\n",
            " 0.54626101 0.54244399 0.53880292 0.53528881 0.5318622  0.52849245\n",
            " 0.5251568  0.52183908 0.51852924 0.5152213  0.51191372 0.50860763\n",
            " 0.50530595 0.50201344 0.49873602 0.49547905]\n",
            "13 day output [[0.49224895]]\n",
            "14 day input [0.5423683  0.57776065 0.50279251 0.49634993 0.46330038 0.42079615\n",
            " 0.50467508 0.39264125 0.44229929 0.55847473 0.54504569 0.54454369\n",
            " 0.51513375 0.5848307  0.55696863 0.55445854 0.6620997  0.65042781\n",
            " 0.67368794 0.64791772 0.61503546 0.63026342 0.67707661 0.69364326\n",
            " 0.6882465  0.79387957 0.7999875  0.83855924 0.84922714 0.84788844\n",
            " 0.84688434 0.86803608 0.84250843 0.86360165 0.86368529 0.90198096\n",
            " 0.9474387  0.95987202 0.87902192 0.90503482 0.85441462 0.87403524\n",
            " 0.85843081 0.83178201 0.85253205 0.85884916 0.85073323 0.844458\n",
            " 0.862447   0.88478678 0.87821873 0.92503192 0.9378752  0.94285362\n",
            " 0.97477365 0.97636329 0.90367293 0.90434194 0.89465261 0.87852991\n",
            " 0.85840398 0.83648211 0.81377506 0.79086459 0.76816761 0.74602813\n",
            " 0.72473735 0.7045337  0.68559802 0.66805243 0.65196353 0.63734591\n",
            " 0.62417126 0.61237633 0.60187107 0.59254742 0.58428633 0.57696402\n",
            " 0.57045716 0.56464612 0.55941898 0.5546723  0.55031353 0.54626101\n",
            " 0.54244399 0.53880292 0.53528881 0.5318622  0.52849245 0.5251568\n",
            " 0.52183908 0.51852924 0.5152213  0.51191372 0.50860763 0.50530595\n",
            " 0.50201344 0.49873602 0.49547905 0.49224895]\n",
            "14 day output [[0.48905116]]\n",
            "15 day input [0.57776065 0.50279251 0.49634993 0.46330038 0.42079615 0.50467508\n",
            " 0.39264125 0.44229929 0.55847473 0.54504569 0.54454369 0.51513375\n",
            " 0.5848307  0.55696863 0.55445854 0.6620997  0.65042781 0.67368794\n",
            " 0.64791772 0.61503546 0.63026342 0.67707661 0.69364326 0.6882465\n",
            " 0.79387957 0.7999875  0.83855924 0.84922714 0.84788844 0.84688434\n",
            " 0.86803608 0.84250843 0.86360165 0.86368529 0.90198096 0.9474387\n",
            " 0.95987202 0.87902192 0.90503482 0.85441462 0.87403524 0.85843081\n",
            " 0.83178201 0.85253205 0.85884916 0.85073323 0.844458   0.862447\n",
            " 0.88478678 0.87821873 0.92503192 0.9378752  0.94285362 0.97477365\n",
            " 0.97636329 0.90367293 0.90434194 0.89465261 0.87852991 0.85840398\n",
            " 0.83648211 0.81377506 0.79086459 0.76816761 0.74602813 0.72473735\n",
            " 0.7045337  0.68559802 0.66805243 0.65196353 0.63734591 0.62417126\n",
            " 0.61237633 0.60187107 0.59254742 0.58428633 0.57696402 0.57045716\n",
            " 0.56464612 0.55941898 0.5546723  0.55031353 0.54626101 0.54244399\n",
            " 0.53880292 0.53528881 0.5318622  0.52849245 0.5251568  0.52183908\n",
            " 0.51852924 0.5152213  0.51191372 0.50860763 0.50530595 0.50201344\n",
            " 0.49873602 0.49547905 0.49224895 0.48905116]\n",
            "15 day output [[0.48589078]]\n",
            "16 day input [0.50279251 0.49634993 0.46330038 0.42079615 0.50467508 0.39264125\n",
            " 0.44229929 0.55847473 0.54504569 0.54454369 0.51513375 0.5848307\n",
            " 0.55696863 0.55445854 0.6620997  0.65042781 0.67368794 0.64791772\n",
            " 0.61503546 0.63026342 0.67707661 0.69364326 0.6882465  0.79387957\n",
            " 0.7999875  0.83855924 0.84922714 0.84788844 0.84688434 0.86803608\n",
            " 0.84250843 0.86360165 0.86368529 0.90198096 0.9474387  0.95987202\n",
            " 0.87902192 0.90503482 0.85441462 0.87403524 0.85843081 0.83178201\n",
            " 0.85253205 0.85884916 0.85073323 0.844458   0.862447   0.88478678\n",
            " 0.87821873 0.92503192 0.9378752  0.94285362 0.97477365 0.97636329\n",
            " 0.90367293 0.90434194 0.89465261 0.87852991 0.85840398 0.83648211\n",
            " 0.81377506 0.79086459 0.76816761 0.74602813 0.72473735 0.7045337\n",
            " 0.68559802 0.66805243 0.65196353 0.63734591 0.62417126 0.61237633\n",
            " 0.60187107 0.59254742 0.58428633 0.57696402 0.57045716 0.56464612\n",
            " 0.55941898 0.5546723  0.55031353 0.54626101 0.54244399 0.53880292\n",
            " 0.53528881 0.5318622  0.52849245 0.5251568  0.52183908 0.51852924\n",
            " 0.5152213  0.51191372 0.50860763 0.50530595 0.50201344 0.49873602\n",
            " 0.49547905 0.49224895 0.48905116 0.48589078]\n",
            "16 day output [[0.4827726]]\n",
            "17 day input [0.49634993 0.46330038 0.42079615 0.50467508 0.39264125 0.44229929\n",
            " 0.55847473 0.54504569 0.54454369 0.51513375 0.5848307  0.55696863\n",
            " 0.55445854 0.6620997  0.65042781 0.67368794 0.64791772 0.61503546\n",
            " 0.63026342 0.67707661 0.69364326 0.6882465  0.79387957 0.7999875\n",
            " 0.83855924 0.84922714 0.84788844 0.84688434 0.86803608 0.84250843\n",
            " 0.86360165 0.86368529 0.90198096 0.9474387  0.95987202 0.87902192\n",
            " 0.90503482 0.85441462 0.87403524 0.85843081 0.83178201 0.85253205\n",
            " 0.85884916 0.85073323 0.844458   0.862447   0.88478678 0.87821873\n",
            " 0.92503192 0.9378752  0.94285362 0.97477365 0.97636329 0.90367293\n",
            " 0.90434194 0.89465261 0.87852991 0.85840398 0.83648211 0.81377506\n",
            " 0.79086459 0.76816761 0.74602813 0.72473735 0.7045337  0.68559802\n",
            " 0.66805243 0.65196353 0.63734591 0.62417126 0.61237633 0.60187107\n",
            " 0.59254742 0.58428633 0.57696402 0.57045716 0.56464612 0.55941898\n",
            " 0.5546723  0.55031353 0.54626101 0.54244399 0.53880292 0.53528881\n",
            " 0.5318622  0.52849245 0.5251568  0.52183908 0.51852924 0.5152213\n",
            " 0.51191372 0.50860763 0.50530595 0.50201344 0.49873602 0.49547905\n",
            " 0.49224895 0.48905116 0.48589078 0.48277259]\n",
            "17 day output [[0.47970003]]\n",
            "18 day input [0.46330038 0.42079615 0.50467508 0.39264125 0.44229929 0.55847473\n",
            " 0.54504569 0.54454369 0.51513375 0.5848307  0.55696863 0.55445854\n",
            " 0.6620997  0.65042781 0.67368794 0.64791772 0.61503546 0.63026342\n",
            " 0.67707661 0.69364326 0.6882465  0.79387957 0.7999875  0.83855924\n",
            " 0.84922714 0.84788844 0.84688434 0.86803608 0.84250843 0.86360165\n",
            " 0.86368529 0.90198096 0.9474387  0.95987202 0.87902192 0.90503482\n",
            " 0.85441462 0.87403524 0.85843081 0.83178201 0.85253205 0.85884916\n",
            " 0.85073323 0.844458   0.862447   0.88478678 0.87821873 0.92503192\n",
            " 0.9378752  0.94285362 0.97477365 0.97636329 0.90367293 0.90434194\n",
            " 0.89465261 0.87852991 0.85840398 0.83648211 0.81377506 0.79086459\n",
            " 0.76816761 0.74602813 0.72473735 0.7045337  0.68559802 0.66805243\n",
            " 0.65196353 0.63734591 0.62417126 0.61237633 0.60187107 0.59254742\n",
            " 0.58428633 0.57696402 0.57045716 0.56464612 0.55941898 0.5546723\n",
            " 0.55031353 0.54626101 0.54244399 0.53880292 0.53528881 0.5318622\n",
            " 0.52849245 0.5251568  0.52183908 0.51852924 0.5152213  0.51191372\n",
            " 0.50860763 0.50530595 0.50201344 0.49873602 0.49547905 0.49224895\n",
            " 0.48905116 0.48589078 0.48277259 0.47970003]\n",
            "18 day output [[0.47667632]]\n",
            "19 day input [0.42079615 0.50467508 0.39264125 0.44229929 0.55847473 0.54504569\n",
            " 0.54454369 0.51513375 0.5848307  0.55696863 0.55445854 0.6620997\n",
            " 0.65042781 0.67368794 0.64791772 0.61503546 0.63026342 0.67707661\n",
            " 0.69364326 0.6882465  0.79387957 0.7999875  0.83855924 0.84922714\n",
            " 0.84788844 0.84688434 0.86803608 0.84250843 0.86360165 0.86368529\n",
            " 0.90198096 0.9474387  0.95987202 0.87902192 0.90503482 0.85441462\n",
            " 0.87403524 0.85843081 0.83178201 0.85253205 0.85884916 0.85073323\n",
            " 0.844458   0.862447   0.88478678 0.87821873 0.92503192 0.9378752\n",
            " 0.94285362 0.97477365 0.97636329 0.90367293 0.90434194 0.89465261\n",
            " 0.87852991 0.85840398 0.83648211 0.81377506 0.79086459 0.76816761\n",
            " 0.74602813 0.72473735 0.7045337  0.68559802 0.66805243 0.65196353\n",
            " 0.63734591 0.62417126 0.61237633 0.60187107 0.59254742 0.58428633\n",
            " 0.57696402 0.57045716 0.56464612 0.55941898 0.5546723  0.55031353\n",
            " 0.54626101 0.54244399 0.53880292 0.53528881 0.5318622  0.52849245\n",
            " 0.5251568  0.52183908 0.51852924 0.5152213  0.51191372 0.50860763\n",
            " 0.50530595 0.50201344 0.49873602 0.49547905 0.49224895 0.48905116\n",
            " 0.48589078 0.48277259 0.47970003 0.47667632]\n",
            "19 day output [[0.47370365]]\n",
            "20 day input [0.50467508 0.39264125 0.44229929 0.55847473 0.54504569 0.54454369\n",
            " 0.51513375 0.5848307  0.55696863 0.55445854 0.6620997  0.65042781\n",
            " 0.67368794 0.64791772 0.61503546 0.63026342 0.67707661 0.69364326\n",
            " 0.6882465  0.79387957 0.7999875  0.83855924 0.84922714 0.84788844\n",
            " 0.84688434 0.86803608 0.84250843 0.86360165 0.86368529 0.90198096\n",
            " 0.9474387  0.95987202 0.87902192 0.90503482 0.85441462 0.87403524\n",
            " 0.85843081 0.83178201 0.85253205 0.85884916 0.85073323 0.844458\n",
            " 0.862447   0.88478678 0.87821873 0.92503192 0.9378752  0.94285362\n",
            " 0.97477365 0.97636329 0.90367293 0.90434194 0.89465261 0.87852991\n",
            " 0.85840398 0.83648211 0.81377506 0.79086459 0.76816761 0.74602813\n",
            " 0.72473735 0.7045337  0.68559802 0.66805243 0.65196353 0.63734591\n",
            " 0.62417126 0.61237633 0.60187107 0.59254742 0.58428633 0.57696402\n",
            " 0.57045716 0.56464612 0.55941898 0.5546723  0.55031353 0.54626101\n",
            " 0.54244399 0.53880292 0.53528881 0.5318622  0.52849245 0.5251568\n",
            " 0.52183908 0.51852924 0.5152213  0.51191372 0.50860763 0.50530595\n",
            " 0.50201344 0.49873602 0.49547905 0.49224895 0.48905116 0.48589078\n",
            " 0.48277259 0.47970003 0.47667632 0.47370365]\n",
            "20 day output [[0.47078356]]\n",
            "21 day input [0.39264125 0.44229929 0.55847473 0.54504569 0.54454369 0.51513375\n",
            " 0.5848307  0.55696863 0.55445854 0.6620997  0.65042781 0.67368794\n",
            " 0.64791772 0.61503546 0.63026342 0.67707661 0.69364326 0.6882465\n",
            " 0.79387957 0.7999875  0.83855924 0.84922714 0.84788844 0.84688434\n",
            " 0.86803608 0.84250843 0.86360165 0.86368529 0.90198096 0.9474387\n",
            " 0.95987202 0.87902192 0.90503482 0.85441462 0.87403524 0.85843081\n",
            " 0.83178201 0.85253205 0.85884916 0.85073323 0.844458   0.862447\n",
            " 0.88478678 0.87821873 0.92503192 0.9378752  0.94285362 0.97477365\n",
            " 0.97636329 0.90367293 0.90434194 0.89465261 0.87852991 0.85840398\n",
            " 0.83648211 0.81377506 0.79086459 0.76816761 0.74602813 0.72473735\n",
            " 0.7045337  0.68559802 0.66805243 0.65196353 0.63734591 0.62417126\n",
            " 0.61237633 0.60187107 0.59254742 0.58428633 0.57696402 0.57045716\n",
            " 0.56464612 0.55941898 0.5546723  0.55031353 0.54626101 0.54244399\n",
            " 0.53880292 0.53528881 0.5318622  0.52849245 0.5251568  0.52183908\n",
            " 0.51852924 0.5152213  0.51191372 0.50860763 0.50530595 0.50201344\n",
            " 0.49873602 0.49547905 0.49224895 0.48905116 0.48589078 0.48277259\n",
            " 0.47970003 0.47667632 0.47370365 0.47078356]\n",
            "21 day output [[0.46791694]]\n",
            "22 day input [0.44229929 0.55847473 0.54504569 0.54454369 0.51513375 0.5848307\n",
            " 0.55696863 0.55445854 0.6620997  0.65042781 0.67368794 0.64791772\n",
            " 0.61503546 0.63026342 0.67707661 0.69364326 0.6882465  0.79387957\n",
            " 0.7999875  0.83855924 0.84922714 0.84788844 0.84688434 0.86803608\n",
            " 0.84250843 0.86360165 0.86368529 0.90198096 0.9474387  0.95987202\n",
            " 0.87902192 0.90503482 0.85441462 0.87403524 0.85843081 0.83178201\n",
            " 0.85253205 0.85884916 0.85073323 0.844458   0.862447   0.88478678\n",
            " 0.87821873 0.92503192 0.9378752  0.94285362 0.97477365 0.97636329\n",
            " 0.90367293 0.90434194 0.89465261 0.87852991 0.85840398 0.83648211\n",
            " 0.81377506 0.79086459 0.76816761 0.74602813 0.72473735 0.7045337\n",
            " 0.68559802 0.66805243 0.65196353 0.63734591 0.62417126 0.61237633\n",
            " 0.60187107 0.59254742 0.58428633 0.57696402 0.57045716 0.56464612\n",
            " 0.55941898 0.5546723  0.55031353 0.54626101 0.54244399 0.53880292\n",
            " 0.53528881 0.5318622  0.52849245 0.5251568  0.52183908 0.51852924\n",
            " 0.5152213  0.51191372 0.50860763 0.50530595 0.50201344 0.49873602\n",
            " 0.49547905 0.49224895 0.48905116 0.48589078 0.48277259 0.47970003\n",
            " 0.47667632 0.47370365 0.47078356 0.46791694]\n",
            "22 day output [[0.4651039]]\n",
            "23 day input [0.55847473 0.54504569 0.54454369 0.51513375 0.5848307  0.55696863\n",
            " 0.55445854 0.6620997  0.65042781 0.67368794 0.64791772 0.61503546\n",
            " 0.63026342 0.67707661 0.69364326 0.6882465  0.79387957 0.7999875\n",
            " 0.83855924 0.84922714 0.84788844 0.84688434 0.86803608 0.84250843\n",
            " 0.86360165 0.86368529 0.90198096 0.9474387  0.95987202 0.87902192\n",
            " 0.90503482 0.85441462 0.87403524 0.85843081 0.83178201 0.85253205\n",
            " 0.85884916 0.85073323 0.844458   0.862447   0.88478678 0.87821873\n",
            " 0.92503192 0.9378752  0.94285362 0.97477365 0.97636329 0.90367293\n",
            " 0.90434194 0.89465261 0.87852991 0.85840398 0.83648211 0.81377506\n",
            " 0.79086459 0.76816761 0.74602813 0.72473735 0.7045337  0.68559802\n",
            " 0.66805243 0.65196353 0.63734591 0.62417126 0.61237633 0.60187107\n",
            " 0.59254742 0.58428633 0.57696402 0.57045716 0.56464612 0.55941898\n",
            " 0.5546723  0.55031353 0.54626101 0.54244399 0.53880292 0.53528881\n",
            " 0.5318622  0.52849245 0.5251568  0.52183908 0.51852924 0.5152213\n",
            " 0.51191372 0.50860763 0.50530595 0.50201344 0.49873602 0.49547905\n",
            " 0.49224895 0.48905116 0.48589078 0.48277259 0.47970003 0.47667632\n",
            " 0.47370365 0.47078356 0.46791694 0.46510389]\n",
            "23 day output [[0.46234432]]\n",
            "24 day input [0.54504569 0.54454369 0.51513375 0.5848307  0.55696863 0.55445854\n",
            " 0.6620997  0.65042781 0.67368794 0.64791772 0.61503546 0.63026342\n",
            " 0.67707661 0.69364326 0.6882465  0.79387957 0.7999875  0.83855924\n",
            " 0.84922714 0.84788844 0.84688434 0.86803608 0.84250843 0.86360165\n",
            " 0.86368529 0.90198096 0.9474387  0.95987202 0.87902192 0.90503482\n",
            " 0.85441462 0.87403524 0.85843081 0.83178201 0.85253205 0.85884916\n",
            " 0.85073323 0.844458   0.862447   0.88478678 0.87821873 0.92503192\n",
            " 0.9378752  0.94285362 0.97477365 0.97636329 0.90367293 0.90434194\n",
            " 0.89465261 0.87852991 0.85840398 0.83648211 0.81377506 0.79086459\n",
            " 0.76816761 0.74602813 0.72473735 0.7045337  0.68559802 0.66805243\n",
            " 0.65196353 0.63734591 0.62417126 0.61237633 0.60187107 0.59254742\n",
            " 0.58428633 0.57696402 0.57045716 0.56464612 0.55941898 0.5546723\n",
            " 0.55031353 0.54626101 0.54244399 0.53880292 0.53528881 0.5318622\n",
            " 0.52849245 0.5251568  0.52183908 0.51852924 0.5152213  0.51191372\n",
            " 0.50860763 0.50530595 0.50201344 0.49873602 0.49547905 0.49224895\n",
            " 0.48905116 0.48589078 0.48277259 0.47970003 0.47667632 0.47370365\n",
            " 0.47078356 0.46791694 0.46510389 0.46234432]\n",
            "24 day output [[0.4596373]]\n",
            "25 day input [0.54454369 0.51513375 0.5848307  0.55696863 0.55445854 0.6620997\n",
            " 0.65042781 0.67368794 0.64791772 0.61503546 0.63026342 0.67707661\n",
            " 0.69364326 0.6882465  0.79387957 0.7999875  0.83855924 0.84922714\n",
            " 0.84788844 0.84688434 0.86803608 0.84250843 0.86360165 0.86368529\n",
            " 0.90198096 0.9474387  0.95987202 0.87902192 0.90503482 0.85441462\n",
            " 0.87403524 0.85843081 0.83178201 0.85253205 0.85884916 0.85073323\n",
            " 0.844458   0.862447   0.88478678 0.87821873 0.92503192 0.9378752\n",
            " 0.94285362 0.97477365 0.97636329 0.90367293 0.90434194 0.89465261\n",
            " 0.87852991 0.85840398 0.83648211 0.81377506 0.79086459 0.76816761\n",
            " 0.74602813 0.72473735 0.7045337  0.68559802 0.66805243 0.65196353\n",
            " 0.63734591 0.62417126 0.61237633 0.60187107 0.59254742 0.58428633\n",
            " 0.57696402 0.57045716 0.56464612 0.55941898 0.5546723  0.55031353\n",
            " 0.54626101 0.54244399 0.53880292 0.53528881 0.5318622  0.52849245\n",
            " 0.5251568  0.52183908 0.51852924 0.5152213  0.51191372 0.50860763\n",
            " 0.50530595 0.50201344 0.49873602 0.49547905 0.49224895 0.48905116\n",
            " 0.48589078 0.48277259 0.47970003 0.47667632 0.47370365 0.47078356\n",
            " 0.46791694 0.46510389 0.46234432 0.45963731]\n",
            "25 day output [[0.45698205]]\n",
            "26 day input [0.51513375 0.5848307  0.55696863 0.55445854 0.6620997  0.65042781\n",
            " 0.67368794 0.64791772 0.61503546 0.63026342 0.67707661 0.69364326\n",
            " 0.6882465  0.79387957 0.7999875  0.83855924 0.84922714 0.84788844\n",
            " 0.84688434 0.86803608 0.84250843 0.86360165 0.86368529 0.90198096\n",
            " 0.9474387  0.95987202 0.87902192 0.90503482 0.85441462 0.87403524\n",
            " 0.85843081 0.83178201 0.85253205 0.85884916 0.85073323 0.844458\n",
            " 0.862447   0.88478678 0.87821873 0.92503192 0.9378752  0.94285362\n",
            " 0.97477365 0.97636329 0.90367293 0.90434194 0.89465261 0.87852991\n",
            " 0.85840398 0.83648211 0.81377506 0.79086459 0.76816761 0.74602813\n",
            " 0.72473735 0.7045337  0.68559802 0.66805243 0.65196353 0.63734591\n",
            " 0.62417126 0.61237633 0.60187107 0.59254742 0.58428633 0.57696402\n",
            " 0.57045716 0.56464612 0.55941898 0.5546723  0.55031353 0.54626101\n",
            " 0.54244399 0.53880292 0.53528881 0.5318622  0.52849245 0.5251568\n",
            " 0.52183908 0.51852924 0.5152213  0.51191372 0.50860763 0.50530595\n",
            " 0.50201344 0.49873602 0.49547905 0.49224895 0.48905116 0.48589078\n",
            " 0.48277259 0.47970003 0.47667632 0.47370365 0.47078356 0.46791694\n",
            " 0.46510389 0.46234432 0.45963731 0.45698205]\n",
            "26 day output [[0.45437694]]\n",
            "27 day input [0.5848307  0.55696863 0.55445854 0.6620997  0.65042781 0.67368794\n",
            " 0.64791772 0.61503546 0.63026342 0.67707661 0.69364326 0.6882465\n",
            " 0.79387957 0.7999875  0.83855924 0.84922714 0.84788844 0.84688434\n",
            " 0.86803608 0.84250843 0.86360165 0.86368529 0.90198096 0.9474387\n",
            " 0.95987202 0.87902192 0.90503482 0.85441462 0.87403524 0.85843081\n",
            " 0.83178201 0.85253205 0.85884916 0.85073323 0.844458   0.862447\n",
            " 0.88478678 0.87821873 0.92503192 0.9378752  0.94285362 0.97477365\n",
            " 0.97636329 0.90367293 0.90434194 0.89465261 0.87852991 0.85840398\n",
            " 0.83648211 0.81377506 0.79086459 0.76816761 0.74602813 0.72473735\n",
            " 0.7045337  0.68559802 0.66805243 0.65196353 0.63734591 0.62417126\n",
            " 0.61237633 0.60187107 0.59254742 0.58428633 0.57696402 0.57045716\n",
            " 0.56464612 0.55941898 0.5546723  0.55031353 0.54626101 0.54244399\n",
            " 0.53880292 0.53528881 0.5318622  0.52849245 0.5251568  0.52183908\n",
            " 0.51852924 0.5152213  0.51191372 0.50860763 0.50530595 0.50201344\n",
            " 0.49873602 0.49547905 0.49224895 0.48905116 0.48589078 0.48277259\n",
            " 0.47970003 0.47667632 0.47370365 0.47078356 0.46791694 0.46510389\n",
            " 0.46234432 0.45963731 0.45698205 0.45437694]\n",
            "27 day output [[0.45182037]]\n",
            "28 day input [0.55696863 0.55445854 0.6620997  0.65042781 0.67368794 0.64791772\n",
            " 0.61503546 0.63026342 0.67707661 0.69364326 0.6882465  0.79387957\n",
            " 0.7999875  0.83855924 0.84922714 0.84788844 0.84688434 0.86803608\n",
            " 0.84250843 0.86360165 0.86368529 0.90198096 0.9474387  0.95987202\n",
            " 0.87902192 0.90503482 0.85441462 0.87403524 0.85843081 0.83178201\n",
            " 0.85253205 0.85884916 0.85073323 0.844458   0.862447   0.88478678\n",
            " 0.87821873 0.92503192 0.9378752  0.94285362 0.97477365 0.97636329\n",
            " 0.90367293 0.90434194 0.89465261 0.87852991 0.85840398 0.83648211\n",
            " 0.81377506 0.79086459 0.76816761 0.74602813 0.72473735 0.7045337\n",
            " 0.68559802 0.66805243 0.65196353 0.63734591 0.62417126 0.61237633\n",
            " 0.60187107 0.59254742 0.58428633 0.57696402 0.57045716 0.56464612\n",
            " 0.55941898 0.5546723  0.55031353 0.54626101 0.54244399 0.53880292\n",
            " 0.53528881 0.5318622  0.52849245 0.5251568  0.52183908 0.51852924\n",
            " 0.5152213  0.51191372 0.50860763 0.50530595 0.50201344 0.49873602\n",
            " 0.49547905 0.49224895 0.48905116 0.48589078 0.48277259 0.47970003\n",
            " 0.47667632 0.47370365 0.47078356 0.46791694 0.46510389 0.46234432\n",
            " 0.45963731 0.45698205 0.45437694 0.45182037]\n",
            "28 day output [[0.44931078]]\n",
            "29 day input [0.55445854 0.6620997  0.65042781 0.67368794 0.64791772 0.61503546\n",
            " 0.63026342 0.67707661 0.69364326 0.6882465  0.79387957 0.7999875\n",
            " 0.83855924 0.84922714 0.84788844 0.84688434 0.86803608 0.84250843\n",
            " 0.86360165 0.86368529 0.90198096 0.9474387  0.95987202 0.87902192\n",
            " 0.90503482 0.85441462 0.87403524 0.85843081 0.83178201 0.85253205\n",
            " 0.85884916 0.85073323 0.844458   0.862447   0.88478678 0.87821873\n",
            " 0.92503192 0.9378752  0.94285362 0.97477365 0.97636329 0.90367293\n",
            " 0.90434194 0.89465261 0.87852991 0.85840398 0.83648211 0.81377506\n",
            " 0.79086459 0.76816761 0.74602813 0.72473735 0.7045337  0.68559802\n",
            " 0.66805243 0.65196353 0.63734591 0.62417126 0.61237633 0.60187107\n",
            " 0.59254742 0.58428633 0.57696402 0.57045716 0.56464612 0.55941898\n",
            " 0.5546723  0.55031353 0.54626101 0.54244399 0.53880292 0.53528881\n",
            " 0.5318622  0.52849245 0.5251568  0.52183908 0.51852924 0.5152213\n",
            " 0.51191372 0.50860763 0.50530595 0.50201344 0.49873602 0.49547905\n",
            " 0.49224895 0.48905116 0.48589078 0.48277259 0.47970003 0.47667632\n",
            " 0.47370365 0.47078356 0.46791694 0.46510389 0.46234432 0.45963731\n",
            " 0.45698205 0.45437694 0.45182037 0.44931078]\n",
            "29 day output [[0.44684651]]\n",
            "[[0.5352888107299805], [0.531862199306488], [0.5284924507141113], [0.5251567959785461], [0.5218390822410583], [0.5185292363166809], [0.5152212977409363], [0.5119137167930603], [0.5086076259613037], [0.5053059458732605], [0.5020134449005127], [0.49873602390289307], [0.4954790472984314], [0.4922489523887634], [0.4890511631965637], [0.48589077591896057], [0.4827725887298584], [0.4797000288963318], [0.4766763150691986], [0.47370365262031555], [0.4707835614681244], [0.46791693568229675], [0.4651038944721222], [0.46234431862831116], [0.459637314081192], [0.4569820463657379], [0.4543769359588623], [0.45182037353515625], [0.4493107795715332], [0.44684651494026184]]\n"
          ]
        }
      ]
    },
    {
      "cell_type": "code",
      "source": [
        "day_new = np.arange(1,101)\n",
        "day_pred = np.arange(101,131)"
      ],
      "metadata": {
        "id": "cM6FyVE2i8ja"
      },
      "execution_count": null,
      "outputs": []
    },
    {
      "cell_type": "code",
      "source": [
        "df3 = df_close.tolist()\n",
        "df3.extend(lst_output)"
      ],
      "metadata": {
        "id": "TJQ9gUjYi8l1"
      },
      "execution_count": null,
      "outputs": []
    },
    {
      "cell_type": "code",
      "source": [
        "len(df_close)"
      ],
      "metadata": {
        "id": "8uKIwTLYi8pN",
        "colab": {
          "base_uri": "https://localhost:8080/"
        },
        "outputId": "1b895a17-7578-4242-f9b3-9c4a7d1db38e"
      },
      "execution_count": null,
      "outputs": [
        {
          "output_type": "execute_result",
          "data": {
            "text/plain": [
              "1229"
            ]
          },
          "metadata": {},
          "execution_count": 49
        }
      ]
    },
    {
      "cell_type": "code",
      "source": [
        "plt.plot(day_new, scaler.inverse_transform(df_close[1128:]))\n",
        "plt.plot(day_pred, scaler.inverse_transform(lst_output))"
      ],
      "metadata": {
        "id": "SoUs5hGZi3lN",
        "colab": {
          "base_uri": "https://localhost:8080/",
          "height": 580
        },
        "outputId": "3e5fc1e1-0464-4303-861b-4c4dfe5eee88"
      },
      "execution_count": null,
      "outputs": [
        {
          "output_type": "error",
          "ename": "ValueError",
          "evalue": "ignored",
          "traceback": [
            "\u001b[0;31m---------------------------------------------------------------------------\u001b[0m",
            "\u001b[0;31mValueError\u001b[0m                                Traceback (most recent call last)",
            "\u001b[0;32m<ipython-input-50-4e9a28e62c4d>\u001b[0m in \u001b[0;36m<module>\u001b[0;34m()\u001b[0m\n\u001b[0;32m----> 1\u001b[0;31m \u001b[0mplt\u001b[0m\u001b[0;34m.\u001b[0m\u001b[0mplot\u001b[0m\u001b[0;34m(\u001b[0m\u001b[0mday_new\u001b[0m\u001b[0;34m,\u001b[0m \u001b[0mscaler\u001b[0m\u001b[0;34m.\u001b[0m\u001b[0minverse_transform\u001b[0m\u001b[0;34m(\u001b[0m\u001b[0mdf_close\u001b[0m\u001b[0;34m[\u001b[0m\u001b[0;36m1128\u001b[0m\u001b[0;34m:\u001b[0m\u001b[0;34m]\u001b[0m\u001b[0;34m)\u001b[0m\u001b[0;34m)\u001b[0m\u001b[0;34m\u001b[0m\u001b[0;34m\u001b[0m\u001b[0m\n\u001b[0m\u001b[1;32m      2\u001b[0m \u001b[0mplt\u001b[0m\u001b[0;34m.\u001b[0m\u001b[0mplot\u001b[0m\u001b[0;34m(\u001b[0m\u001b[0mday_pred\u001b[0m\u001b[0;34m,\u001b[0m \u001b[0mscaler\u001b[0m\u001b[0;34m.\u001b[0m\u001b[0minverse_transform\u001b[0m\u001b[0;34m(\u001b[0m\u001b[0mlst_output\u001b[0m\u001b[0;34m)\u001b[0m\u001b[0;34m)\u001b[0m\u001b[0;34m\u001b[0m\u001b[0;34m\u001b[0m\u001b[0m\n",
            "\u001b[0;32m/usr/local/lib/python3.7/dist-packages/matplotlib/pyplot.py\u001b[0m in \u001b[0;36mplot\u001b[0;34m(scalex, scaley, data, *args, **kwargs)\u001b[0m\n\u001b[1;32m   2761\u001b[0m     return gca().plot(\n\u001b[1;32m   2762\u001b[0m         *args, scalex=scalex, scaley=scaley, **({\"data\": data} if data\n\u001b[0;32m-> 2763\u001b[0;31m         is not None else {}), **kwargs)\n\u001b[0m\u001b[1;32m   2764\u001b[0m \u001b[0;34m\u001b[0m\u001b[0m\n\u001b[1;32m   2765\u001b[0m \u001b[0;34m\u001b[0m\u001b[0m\n",
            "\u001b[0;32m/usr/local/lib/python3.7/dist-packages/matplotlib/axes/_axes.py\u001b[0m in \u001b[0;36mplot\u001b[0;34m(self, scalex, scaley, data, *args, **kwargs)\u001b[0m\n\u001b[1;32m   1645\u001b[0m         \"\"\"\n\u001b[1;32m   1646\u001b[0m         \u001b[0mkwargs\u001b[0m \u001b[0;34m=\u001b[0m \u001b[0mcbook\u001b[0m\u001b[0;34m.\u001b[0m\u001b[0mnormalize_kwargs\u001b[0m\u001b[0;34m(\u001b[0m\u001b[0mkwargs\u001b[0m\u001b[0;34m,\u001b[0m \u001b[0mmlines\u001b[0m\u001b[0;34m.\u001b[0m\u001b[0mLine2D\u001b[0m\u001b[0;34m)\u001b[0m\u001b[0;34m\u001b[0m\u001b[0;34m\u001b[0m\u001b[0m\n\u001b[0;32m-> 1647\u001b[0;31m         \u001b[0mlines\u001b[0m \u001b[0;34m=\u001b[0m \u001b[0;34m[\u001b[0m\u001b[0;34m*\u001b[0m\u001b[0mself\u001b[0m\u001b[0;34m.\u001b[0m\u001b[0m_get_lines\u001b[0m\u001b[0;34m(\u001b[0m\u001b[0;34m*\u001b[0m\u001b[0margs\u001b[0m\u001b[0;34m,\u001b[0m \u001b[0mdata\u001b[0m\u001b[0;34m=\u001b[0m\u001b[0mdata\u001b[0m\u001b[0;34m,\u001b[0m \u001b[0;34m**\u001b[0m\u001b[0mkwargs\u001b[0m\u001b[0;34m)\u001b[0m\u001b[0;34m]\u001b[0m\u001b[0;34m\u001b[0m\u001b[0;34m\u001b[0m\u001b[0m\n\u001b[0m\u001b[1;32m   1648\u001b[0m         \u001b[0;32mfor\u001b[0m \u001b[0mline\u001b[0m \u001b[0;32min\u001b[0m \u001b[0mlines\u001b[0m\u001b[0;34m:\u001b[0m\u001b[0;34m\u001b[0m\u001b[0;34m\u001b[0m\u001b[0m\n\u001b[1;32m   1649\u001b[0m             \u001b[0mself\u001b[0m\u001b[0;34m.\u001b[0m\u001b[0madd_line\u001b[0m\u001b[0;34m(\u001b[0m\u001b[0mline\u001b[0m\u001b[0;34m)\u001b[0m\u001b[0;34m\u001b[0m\u001b[0;34m\u001b[0m\u001b[0m\n",
            "\u001b[0;32m/usr/local/lib/python3.7/dist-packages/matplotlib/axes/_base.py\u001b[0m in \u001b[0;36m__call__\u001b[0;34m(self, *args, **kwargs)\u001b[0m\n\u001b[1;32m    214\u001b[0m                 \u001b[0mthis\u001b[0m \u001b[0;34m+=\u001b[0m \u001b[0margs\u001b[0m\u001b[0;34m[\u001b[0m\u001b[0;36m0\u001b[0m\u001b[0;34m]\u001b[0m\u001b[0;34m,\u001b[0m\u001b[0;34m\u001b[0m\u001b[0;34m\u001b[0m\u001b[0m\n\u001b[1;32m    215\u001b[0m                 \u001b[0margs\u001b[0m \u001b[0;34m=\u001b[0m \u001b[0margs\u001b[0m\u001b[0;34m[\u001b[0m\u001b[0;36m1\u001b[0m\u001b[0;34m:\u001b[0m\u001b[0;34m]\u001b[0m\u001b[0;34m\u001b[0m\u001b[0;34m\u001b[0m\u001b[0m\n\u001b[0;32m--> 216\u001b[0;31m             \u001b[0;32myield\u001b[0m \u001b[0;32mfrom\u001b[0m \u001b[0mself\u001b[0m\u001b[0;34m.\u001b[0m\u001b[0m_plot_args\u001b[0m\u001b[0;34m(\u001b[0m\u001b[0mthis\u001b[0m\u001b[0;34m,\u001b[0m \u001b[0mkwargs\u001b[0m\u001b[0;34m)\u001b[0m\u001b[0;34m\u001b[0m\u001b[0;34m\u001b[0m\u001b[0m\n\u001b[0m\u001b[1;32m    217\u001b[0m \u001b[0;34m\u001b[0m\u001b[0m\n\u001b[1;32m    218\u001b[0m     \u001b[0;32mdef\u001b[0m \u001b[0mget_next_color\u001b[0m\u001b[0;34m(\u001b[0m\u001b[0mself\u001b[0m\u001b[0;34m)\u001b[0m\u001b[0;34m:\u001b[0m\u001b[0;34m\u001b[0m\u001b[0;34m\u001b[0m\u001b[0m\n",
            "\u001b[0;32m/usr/local/lib/python3.7/dist-packages/matplotlib/axes/_base.py\u001b[0m in \u001b[0;36m_plot_args\u001b[0;34m(self, tup, kwargs)\u001b[0m\n\u001b[1;32m    340\u001b[0m \u001b[0;34m\u001b[0m\u001b[0m\n\u001b[1;32m    341\u001b[0m         \u001b[0;32mif\u001b[0m \u001b[0mx\u001b[0m\u001b[0;34m.\u001b[0m\u001b[0mshape\u001b[0m\u001b[0;34m[\u001b[0m\u001b[0;36m0\u001b[0m\u001b[0;34m]\u001b[0m \u001b[0;34m!=\u001b[0m \u001b[0my\u001b[0m\u001b[0;34m.\u001b[0m\u001b[0mshape\u001b[0m\u001b[0;34m[\u001b[0m\u001b[0;36m0\u001b[0m\u001b[0;34m]\u001b[0m\u001b[0;34m:\u001b[0m\u001b[0;34m\u001b[0m\u001b[0;34m\u001b[0m\u001b[0m\n\u001b[0;32m--> 342\u001b[0;31m             raise ValueError(f\"x and y must have same first dimension, but \"\n\u001b[0m\u001b[1;32m    343\u001b[0m                              f\"have shapes {x.shape} and {y.shape}\")\n\u001b[1;32m    344\u001b[0m         \u001b[0;32mif\u001b[0m \u001b[0mx\u001b[0m\u001b[0;34m.\u001b[0m\u001b[0mndim\u001b[0m \u001b[0;34m>\u001b[0m \u001b[0;36m2\u001b[0m \u001b[0;32mor\u001b[0m \u001b[0my\u001b[0m\u001b[0;34m.\u001b[0m\u001b[0mndim\u001b[0m \u001b[0;34m>\u001b[0m \u001b[0;36m2\u001b[0m\u001b[0;34m:\u001b[0m\u001b[0;34m\u001b[0m\u001b[0;34m\u001b[0m\u001b[0m\n",
            "\u001b[0;31mValueError\u001b[0m: x and y must have same first dimension, but have shapes (100,) and (101, 1)"
          ]
        },
        {
          "output_type": "display_data",
          "data": {
            "text/plain": [
              "<Figure size 432x288 with 1 Axes>"
            ],
            "image/png": "[encoded data removed]"
          },
          "metadata": {
            "needs_background": "light"
          }
        }
      ]
    },
    {
      "cell_type": "code",
      "source": [
        ""
      ],
      "metadata": {
        "id": "Az-MHLGFi3nY"
      },
      "execution_count": null,
      "outputs": []
    },
    {
      "cell_type": "code",
      "source": [
        ""
      ],
      "metadata": {
        "id": "nNJHjnKci3pG"
      },
      "execution_count": null,
      "outputs": []
    },
    {
      "cell_type": "code",
      "source": [
        ""
      ],
      "metadata": {
        "id": "ewgo-0T5i3si"
      },
      "execution_count": null,
      "outputs": []
    }
  ]
}