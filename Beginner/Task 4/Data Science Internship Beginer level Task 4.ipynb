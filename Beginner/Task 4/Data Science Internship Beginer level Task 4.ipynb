{
 "cells": [
  {
   "cell_type": "code",
   "execution_count": 1,
   "id": "c49c7dba",
   "metadata": {},
   "outputs": [],
   "source": [
    "import cv2"
   ]
  },
  {
   "cell_type": "code",
   "execution_count": 2,
   "id": "9e13b47b",
   "metadata": {},
   "outputs": [],
   "source": [
    "image = cv2.imread(\"My Image.jpeg\")"
   ]
  },
  {
   "cell_type": "code",
   "execution_count": 3,
   "id": "e96af606",
   "metadata": {},
   "outputs": [],
   "source": [
    "gray_image = cv2.cvtColor(image, cv2.COLOR_BGR2GRAY)\n"
   ]
  },
  {
   "cell_type": "code",
   "execution_count": 4,
   "id": "bbf06203",
   "metadata": {},
   "outputs": [],
   "source": [
    "inverted = 255-gray_image"
   ]
  },
  {
   "cell_type": "code",
   "execution_count": 5,
   "id": "1522fba7",
   "metadata": {},
   "outputs": [],
   "source": [
    "blur = cv2.GaussianBlur(inverted, (21, 21), 0)"
   ]
  },
  {
   "cell_type": "code",
   "execution_count": 6,
   "id": "d562f80d",
   "metadata": {},
   "outputs": [],
   "source": [
    "\n",
    "invertedblur = 255-blur"
   ]
  },
  {
   "cell_type": "code",
   "execution_count": 7,
   "id": "e3386e22",
   "metadata": {},
   "outputs": [],
   "source": [
    "sketch = cv2.divide(gray_image, invertedblur, scale=256.0)"
   ]
  },
  {
   "cell_type": "code",
   "execution_count": 8,
   "id": "02e2bfe1",
   "metadata": {},
   "outputs": [
    {
     "data": {
      "text/plain": [
       "True"
      ]
     },
     "execution_count": 8,
     "metadata": {},
     "output_type": "execute_result"
    }
   ],
   "source": [
    "cv2.imwrite(\"sketch.png\", sketch)"
   ]
  },
  {
   "cell_type": "code",
   "execution_count": 9,
   "id": "4849cecf",
   "metadata": {},
   "outputs": [],
   "source": [
    "cv2.imshow(\"Sketch\", sketch)"
   ]
  },
  {
   "cell_type": "code",
   "execution_count": 10,
   "id": "3ea27e11",
   "metadata": {},
   "outputs": [
    {
     "data": {
      "text/plain": [
       "-1"
      ]
     },
     "execution_count": 10,
     "metadata": {},
     "output_type": "execute_result"
    }
   ],
   "source": [
    "cv2.waitKey(0)"
   ]
  },
  {
   "cell_type": "code",
   "execution_count": null,
   "id": "c569892a",
   "metadata": {},
   "outputs": [],
   "source": []
  }
 ],
 "metadata": {
  "kernelspec": {
   "display_name": "Python 3 (ipykernel)",
   "language": "python",
   "name": "python3"
  },
  "language_info": {
   "codemirror_mode": {
    "name": "ipython",
    "version": 3
   },
   "file_extension": ".py",
   "mimetype": "text/x-python",
   "name": "python",
   "nbconvert_exporter": "python",
   "pygments_lexer": "ipython3",
   "version": "3.10.2"
  }
 },
 "nbformat": 4,
 "nbformat_minor": 5
}
