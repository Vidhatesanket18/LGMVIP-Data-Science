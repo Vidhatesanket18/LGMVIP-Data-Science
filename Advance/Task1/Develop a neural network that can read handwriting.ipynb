{
 "cells": [
  {
   "cell_type": "markdown",
   "id": "e692c881",
   "metadata": {},
   "source": [
    "𝐋𝐞𝐭𝐬𝐆𝐫𝐨𝐰𝐌𝐨𝐫𝐞 (𝐋𝐆𝐌𝐕𝐈𝐏) - \"𝐃𝐀𝐓𝐀 𝐒𝐂𝐈𝐄𝐍𝐂𝐄 𝐈𝐍𝐓𝐄𝐑𝐍\"\n",
    "LGMVIP March-22\n",
    "AUTHOR - VIDHATE SANKET DATTATRAYA\n",
    "Advanced Level Task\n",
    "TASK - 9 : Develop a Neural Network That Can Read Handwriting\n",
    "Dataset link :https://en.wikipedia.org/wiki/MNIST_database\n"
   ]
  },
  {
   "cell_type": "code",
   "execution_count": 1,
   "id": "9b525433",
   "metadata": {},
   "outputs": [],
   "source": [
    "import numpy as np\n",
    "import pandas as pd\n",
    "import matplotlib.pyplot as plt\n",
    "import seaborn as sns\n",
    "import warnings \n",
    "warnings.filterwarnings('ignore')\n",
    "from keras.utils import np_utils\n",
    "from keras.models import Sequential \n",
    "from keras.layers import Dense, Dropout, BatchNormalization\n",
    "from keras.layers import Conv2D, MaxPooling2D, Flatten\n",
    "from keras.datasets import mnist"
   ]
  },
  {
   "cell_type": "code",
   "execution_count": 2,
   "id": "9fa48cf9",
   "metadata": {},
   "outputs": [
    {
     "name": "stdout",
     "output_type": "stream",
     "text": [
      "2.8.0\n",
      "2.8.0\n"
     ]
    }
   ],
   "source": [
    "import tensorflow as tf\n",
    "from tensorflow import keras\n",
    "print(tf.__version__)\n",
    "print(keras.__version__)"
   ]
  },
  {
   "cell_type": "code",
   "execution_count": 3,
   "id": "458fcfe9",
   "metadata": {},
   "outputs": [
    {
     "name": "stdout",
     "output_type": "stream",
     "text": [
      "Downloading data from https://storage.googleapis.com/tensorflow/tf-keras-datasets/mnist.npz\n",
      "11493376/11490434 [==============================] - 18s 2us/step\n",
      "11501568/11490434 [==============================] - 18s 2us/step\n"
     ]
    }
   ],
   "source": [
    "(X_train, y_train), (X_test, y_test) = mnist.load_data()\n"
   ]
  },
  {
   "cell_type": "code",
   "execution_count": 4,
   "id": "f991b91b",
   "metadata": {},
   "outputs": [
    {
     "data": {
      "text/plain": [
       "(60000, 28, 28)"
      ]
     },
     "execution_count": 4,
     "metadata": {},
     "output_type": "execute_result"
    }
   ],
   "source": [
    "X_train.shape"
   ]
  },
  {
   "cell_type": "code",
   "execution_count": 15,
   "id": "3282d327",
   "metadata": {},
   "outputs": [
    {
     "data": {
      "image/png": "[encoded data removed]",
      "text/plain": [
       "<Figure size 576x576 with 6 Axes>"
      ]
     },
     "metadata": {
      "needs_background": "light"
     },
     "output_type": "display_data"
    }
   ],
   "source": [
    "plt.figure(figsize=(8, 8))\n",
    "np.random.seed(0)\n",
    "idx = np.random.randint(0, 60000, 6)\n",
    "\n",
    "for i in range(len(idx)):\n",
    "    plt.subplot(3, 3, i+1)\n",
    "    plt.title(y_train[idx[i]])\n",
    "    grid_data = np.reshape(X_train[idx[i]], (28,28))\n",
    "    plt.imshow(grid_data, cmap='gray')"
   ]
  },
  {
   "cell_type": "code",
   "execution_count": 16,
   "id": "0e2a74e1",
   "metadata": {},
   "outputs": [],
   "source": [
    "X_train = X_train.astype('float32')\n",
    "X_test = X_test.astype('float32')\n",
    "X_train = X_train/255\n",
    "X_test = X_test/255\n",
    "X_train = X_train.reshape(60000, 28, 28, 1)\n",
    "X_test = X_test.reshape(10000, 28, 28, 1)"
   ]
  },
  {
   "cell_type": "code",
   "execution_count": 17,
   "id": "419fc9c8",
   "metadata": {},
   "outputs": [
    {
     "name": "stdout",
     "output_type": "stream",
     "text": [
      "Class label of first image : 5\n",
      "After converting the output into a vector :  [0. 0. 0. 0. 0. 1. 0. 0. 0. 0.]\n"
     ]
    }
   ],
   "source": [
    "print(\"Class label of first image :\", y_train[0])\n",
    "Y_train = np_utils.to_categorical(y_train, 10) \n",
    "Y_test = np_utils.to_categorical(y_test, 10)\n",
    "print(\"After converting the output into a vector : \",Y_train[0])"
   ]
  },
  {
   "cell_type": "code",
   "execution_count": 18,
   "id": "173bdeab",
   "metadata": {},
   "outputs": [
    {
     "name": "stdout",
     "output_type": "stream",
     "text": [
      "Epoch 1/20\n",
      "469/469 [==============================] - 63s 133ms/step - loss: 0.2330 - accuracy: 0.9314\n",
      "Epoch 2/20\n",
      "469/469 [==============================] - 63s 134ms/step - loss: 0.0872 - accuracy: 0.9745\n",
      "Epoch 3/20\n",
      "469/469 [==============================] - 65s 139ms/step - loss: 0.0660 - accuracy: 0.9797\n",
      "Epoch 4/20\n",
      "469/469 [==============================] - 65s 139ms/step - loss: 0.0543 - accuracy: 0.9833\n",
      "Epoch 5/20\n",
      "469/469 [==============================] - 64s 137ms/step - loss: 0.0450 - accuracy: 0.9863\n",
      "Epoch 6/20\n",
      "469/469 [==============================] - 61s 131ms/step - loss: 0.0396 - accuracy: 0.9878\n",
      "Epoch 7/20\n",
      "469/469 [==============================] - 62s 132ms/step - loss: 0.0348 - accuracy: 0.9887\n",
      "Epoch 8/20\n",
      "469/469 [==============================] - 59s 126ms/step - loss: 0.0293 - accuracy: 0.9905\n",
      "Epoch 9/20\n",
      "469/469 [==============================] - 60s 128ms/step - loss: 0.0264 - accuracy: 0.9912\n",
      "Epoch 10/20\n",
      "469/469 [==============================] - 61s 131ms/step - loss: 0.0272 - accuracy: 0.9913\n",
      "Epoch 11/20\n",
      "469/469 [==============================] - 61s 129ms/step - loss: 0.0239 - accuracy: 0.9918\n",
      "Epoch 12/20\n",
      "469/469 [==============================] - 68s 144ms/step - loss: 0.0210 - accuracy: 0.9931\n",
      "Epoch 13/20\n",
      "469/469 [==============================] - 66s 141ms/step - loss: 0.0204 - accuracy: 0.9933\n",
      "Epoch 14/20\n",
      "469/469 [==============================] - 61s 130ms/step - loss: 0.0181 - accuracy: 0.9939\n",
      "Epoch 15/20\n",
      "469/469 [==============================] - 61s 130ms/step - loss: 0.0184 - accuracy: 0.9943\n",
      "Epoch 16/20\n",
      "469/469 [==============================] - 62s 132ms/step - loss: 0.0158 - accuracy: 0.9947\n",
      "Epoch 17/20\n",
      "469/469 [==============================] - 61s 129ms/step - loss: 0.0171 - accuracy: 0.9943\n",
      "Epoch 18/20\n",
      "469/469 [==============================] - 60s 127ms/step - loss: 0.0153 - accuracy: 0.9946\n",
      "Epoch 19/20\n",
      "469/469 [==============================] - 59s 127ms/step - loss: 0.0147 - accuracy: 0.9950\n",
      "Epoch 20/20\n",
      "469/469 [==============================] - 59s 127ms/step - loss: 0.0146 - accuracy: 0.9949\n"
     ]
    },
    {
     "data": {
      "text/plain": [
       "<keras.callbacks.History at 0x1917508af50>"
      ]
     },
     "execution_count": 18,
     "metadata": {},
     "output_type": "execute_result"
    }
   ],
   "source": [
    "model = None\n",
    "model = Sequential()\n",
    "model.add(Conv2D(32, kernel_size=(3, 3), padding='same', input_shape=(28, 28, 1), activation='relu', kernel_initializer='he_normal'))\n",
    "model.add(Conv2D(64, (3, 3), activation='relu', kernel_initializer='he_normal'))\n",
    "model.add(MaxPooling2D(pool_size=(2, 2)))\n",
    "model.add(Dropout(0.25))\n",
    "model.add(Flatten())\n",
    "model.add(Dense(128, activation='relu', kernel_initializer='he_normal'))\n",
    "model.add(Dropout(0.5))\n",
    "model.add(Dense(10, activation='softmax'))\n",
    "model.compile(optimizer='adam', loss='categorical_crossentropy', metrics=['accuracy'])\n",
    "model.fit(X_train, Y_train, batch_size=128, epochs=20)"
   ]
  },
  {
   "cell_type": "code",
   "execution_count": 19,
   "id": "7a6a14f7",
   "metadata": {},
   "outputs": [
    {
     "name": "stdout",
     "output_type": "stream",
     "text": [
      "Test Loss and Test Accuracy [0.035540621727705, 0.9921000003814697]\n"
     ]
    }
   ],
   "source": [
    "prediction_score = model.evaluate(X_test, Y_test, verbose=0)\n",
    "print('Test Loss and Test Accuracy', prediction_score)"
   ]
  },
  {
   "cell_type": "code",
   "execution_count": 20,
   "id": "a258f689",
   "metadata": {},
   "outputs": [],
   "source": [
    "from keras.preprocessing import image"
   ]
  },
  {
   "cell_type": "code",
   "execution_count": 22,
   "id": "23b10e47",
   "metadata": {},
   "outputs": [
    {
     "data": {
      "text/plain": [
       "<matplotlib.image.AxesImage at 0x191736bd000>"
      ]
     },
     "execution_count": 22,
     "metadata": {},
     "output_type": "execute_result"
    },
    {
     "data": {
      "image/png": "[encoded data removed]",
      "text/plain": [
       "<Figure size 432x288 with 1 Axes>"
      ]
     },
     "metadata": {
      "needs_background": "light"
     },
     "output_type": "display_data"
    }
   ],
   "source": [
    "plt.imshow(image.array_to_img(X_test[40]), cmap=\"gray\")"
   ]
  },
  {
   "cell_type": "code",
   "execution_count": 23,
   "id": "355af4ed",
   "metadata": {},
   "outputs": [
    {
     "data": {
      "text/plain": [
       "1"
      ]
     },
     "execution_count": 23,
     "metadata": {},
     "output_type": "execute_result"
    }
   ],
   "source": [
    "y_test[40]"
   ]
  },
  {
   "cell_type": "code",
   "execution_count": 25,
   "id": "089186a6",
   "metadata": {},
   "outputs": [
    {
     "data": {
      "text/plain": [
       "<matplotlib.image.AxesImage at 0x19172d00310>"
      ]
     },
     "execution_count": 25,
     "metadata": {},
     "output_type": "execute_result"
    },
    {
     "data": {
      "image/png": "[encoded data removed]",
      "text/plain": [
       "<Figure size 432x288 with 1 Axes>"
      ]
     },
     "metadata": {
      "needs_background": "light"
     },
     "output_type": "display_data"
    }
   ],
   "source": [
    "plt.imshow(image.array_to_img(X_test[35]), cmap=\"gray\")"
   ]
  },
  {
   "cell_type": "code",
   "execution_count": 26,
   "id": "0dc1d305",
   "metadata": {},
   "outputs": [
    {
     "data": {
      "text/plain": [
       "2"
      ]
     },
     "execution_count": 26,
     "metadata": {},
     "output_type": "execute_result"
    }
   ],
   "source": [
    "y_test[35]"
   ]
  },
  {
   "cell_type": "code",
   "execution_count": 28,
   "id": "699bd05f",
   "metadata": {},
   "outputs": [
    {
     "data": {
      "text/plain": [
       "7"
      ]
     },
     "execution_count": 28,
     "metadata": {},
     "output_type": "execute_result"
    },
    {
     "data": {
      "image/png": "[encoded data removed]",
      "text/plain": [
       "<Figure size 432x288 with 1 Axes>"
      ]
     },
     "metadata": {
      "needs_background": "light"
     },
     "output_type": "display_data"
    }
   ],
   "source": [
    "plt.imshow(image.array_to_img(X_test[79]), cmap=\"gray\")\n",
    "y_test[79]\n"
   ]
  },
  {
   "cell_type": "code",
   "execution_count": 29,
   "id": "17fda4d0",
   "metadata": {},
   "outputs": [
    {
     "data": {
      "text/plain": [
       "7"
      ]
     },
     "execution_count": 29,
     "metadata": {},
     "output_type": "execute_result"
    }
   ],
   "source": [
    "y_test[79]"
   ]
  },
  {
   "cell_type": "code",
   "execution_count": 30,
   "id": "c33a7a45",
   "metadata": {},
   "outputs": [
    {
     "name": "stdout",
     "output_type": "stream",
     "text": [
      "Predicted Value:  9\n",
      "Successful prediction\n"
     ]
    },
    {
     "data": {
      "image/png": "[encoded data removed]",
      "text/plain": [
       "<Figure size 432x288 with 1 Axes>"
      ]
     },
     "metadata": {
      "needs_background": "light"
     },
     "output_type": "display_data"
    }
   ],
   "source": [
    "plt.imshow(X_test[9],cmap='gray_r')\n",
    "plt.title('Actual Value: {}'.format(Y_test[9]))\n",
    "prediction=model.predict(X_test)\n",
    "\n",
    "plt.axis('off')\n",
    "print('Predicted Value: ',np.argmax(prediction[9]))\n",
    "if(y_test[9]==(np.argmax(prediction[9]))):\n",
    "  print('Successful prediction')\n",
    "else:\n",
    "  print('Unsuccessful prediction')"
   ]
  },
  {
   "cell_type": "code",
   "execution_count": null,
   "id": "a290dcc0",
   "metadata": {},
   "outputs": [],
   "source": []
  }
 ],
 "metadata": {
  "kernelspec": {
   "display_name": "Python 3 (ipykernel)",
   "language": "python",
   "name": "python3"
  },
  "language_info": {
   "codemirror_mode": {
    "name": "ipython",
    "version": 3
   },
   "file_extension": ".py",
   "mimetype": "text/x-python",
   "name": "python",
   "nbconvert_exporter": "python",
   "pygments_lexer": "ipython3",
   "version": "3.10.2"
  }
 },
 "nbformat": 4,
 "nbformat_minor": 5
}
